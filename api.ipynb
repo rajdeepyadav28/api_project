{
 "cells": [
  {
   "cell_type": "markdown",
   "id": "70f76351",
   "metadata": {},
   "source": [
    "#### Stock Market API Project"
   ]
  },
  {
   "cell_type": "code",
   "execution_count": 1,
   "id": "e387ae9d",
   "metadata": {},
   "outputs": [],
   "source": [
    "import streamlit as st"
   ]
  },
  {
   "cell_type": "code",
   "execution_count": 2,
   "id": "b119f7bf",
   "metadata": {},
   "outputs": [],
   "source": [
    "api_key = st.secrets[\"API_KEY\"]"
   ]
  },
  {
   "cell_type": "markdown",
   "id": "af57efea",
   "metadata": {},
   "source": [
    "Symbol Search"
   ]
  },
  {
   "cell_type": "code",
   "execution_count": 3,
   "id": "aa3b64d6",
   "metadata": {},
   "outputs": [
    {
     "data": {
      "text/html": [
       "<div>\n",
       "<style scoped>\n",
       "    .dataframe tbody tr th:only-of-type {\n",
       "        vertical-align: middle;\n",
       "    }\n",
       "\n",
       "    .dataframe tbody tr th {\n",
       "        vertical-align: top;\n",
       "    }\n",
       "\n",
       "    .dataframe thead th {\n",
       "        text-align: right;\n",
       "    }\n",
       "</style>\n",
       "<table border=\"1\" class=\"dataframe\">\n",
       "  <thead>\n",
       "    <tr style=\"text-align: right;\">\n",
       "      <th></th>\n",
       "      <th>1. symbol</th>\n",
       "      <th>2. name</th>\n",
       "      <th>3. type</th>\n",
       "      <th>4. region</th>\n",
       "      <th>5. marketOpen</th>\n",
       "      <th>6. marketClose</th>\n",
       "      <th>7. timezone</th>\n",
       "      <th>8. currency</th>\n",
       "      <th>9. matchScore</th>\n",
       "    </tr>\n",
       "  </thead>\n",
       "  <tbody>\n",
       "    <tr>\n",
       "      <th>0</th>\n",
       "      <td>MSF0.FRK</td>\n",
       "      <td>MICROSOFT CORP. CDR</td>\n",
       "      <td>Equity</td>\n",
       "      <td>Frankfurt</td>\n",
       "      <td>08:00</td>\n",
       "      <td>20:00</td>\n",
       "      <td>UTC+02</td>\n",
       "      <td>EUR</td>\n",
       "      <td>0.6429</td>\n",
       "    </tr>\n",
       "    <tr>\n",
       "      <th>1</th>\n",
       "      <td>MSFT</td>\n",
       "      <td>Microsoft Corporation</td>\n",
       "      <td>Equity</td>\n",
       "      <td>United States</td>\n",
       "      <td>09:30</td>\n",
       "      <td>16:00</td>\n",
       "      <td>UTC-04</td>\n",
       "      <td>USD</td>\n",
       "      <td>0.6154</td>\n",
       "    </tr>\n",
       "    <tr>\n",
       "      <th>2</th>\n",
       "      <td>0QYP.LON</td>\n",
       "      <td>Microsoft Corporation</td>\n",
       "      <td>Equity</td>\n",
       "      <td>United Kingdom</td>\n",
       "      <td>08:00</td>\n",
       "      <td>16:30</td>\n",
       "      <td>UTC+01</td>\n",
       "      <td>USD</td>\n",
       "      <td>0.6000</td>\n",
       "    </tr>\n",
       "    <tr>\n",
       "      <th>3</th>\n",
       "      <td>MSF.DEX</td>\n",
       "      <td>Microsoft Corporation</td>\n",
       "      <td>Equity</td>\n",
       "      <td>XETRA</td>\n",
       "      <td>08:00</td>\n",
       "      <td>20:00</td>\n",
       "      <td>UTC+02</td>\n",
       "      <td>EUR</td>\n",
       "      <td>0.6000</td>\n",
       "    </tr>\n",
       "    <tr>\n",
       "      <th>4</th>\n",
       "      <td>MSF.FRK</td>\n",
       "      <td>Microsoft Corporation</td>\n",
       "      <td>Equity</td>\n",
       "      <td>Frankfurt</td>\n",
       "      <td>08:00</td>\n",
       "      <td>20:00</td>\n",
       "      <td>UTC+02</td>\n",
       "      <td>EUR</td>\n",
       "      <td>0.6000</td>\n",
       "    </tr>\n",
       "    <tr>\n",
       "      <th>5</th>\n",
       "      <td>MSFT34.SAO</td>\n",
       "      <td>Microsoft Corporation</td>\n",
       "      <td>Equity</td>\n",
       "      <td>Brazil/Sao Paolo</td>\n",
       "      <td>10:00</td>\n",
       "      <td>17:30</td>\n",
       "      <td>UTC-03</td>\n",
       "      <td>BRL</td>\n",
       "      <td>0.6000</td>\n",
       "    </tr>\n",
       "    <tr>\n",
       "      <th>6</th>\n",
       "      <td>MSFT.TRT</td>\n",
       "      <td>Microsoft CDR (CAD Hedged)</td>\n",
       "      <td>Equity</td>\n",
       "      <td>Toronto</td>\n",
       "      <td>09:30</td>\n",
       "      <td>16:00</td>\n",
       "      <td>UTC-05</td>\n",
       "      <td>CAD</td>\n",
       "      <td>0.5143</td>\n",
       "    </tr>\n",
       "  </tbody>\n",
       "</table>\n",
       "</div>"
      ],
      "text/plain": [
       "    1. symbol                     2. name 3. type         4. region  \\\n",
       "0    MSF0.FRK         MICROSOFT CORP. CDR  Equity         Frankfurt   \n",
       "1        MSFT       Microsoft Corporation  Equity     United States   \n",
       "2    0QYP.LON       Microsoft Corporation  Equity    United Kingdom   \n",
       "3     MSF.DEX       Microsoft Corporation  Equity             XETRA   \n",
       "4     MSF.FRK       Microsoft Corporation  Equity         Frankfurt   \n",
       "5  MSFT34.SAO       Microsoft Corporation  Equity  Brazil/Sao Paolo   \n",
       "6    MSFT.TRT  Microsoft CDR (CAD Hedged)  Equity           Toronto   \n",
       "\n",
       "  5. marketOpen 6. marketClose 7. timezone 8. currency 9. matchScore  \n",
       "0         08:00          20:00      UTC+02         EUR        0.6429  \n",
       "1         09:30          16:00      UTC-04         USD        0.6154  \n",
       "2         08:00          16:30      UTC+01         USD        0.6000  \n",
       "3         08:00          20:00      UTC+02         EUR        0.6000  \n",
       "4         08:00          20:00      UTC+02         EUR        0.6000  \n",
       "5         10:00          17:30      UTC-03         BRL        0.6000  \n",
       "6         09:30          16:00      UTC-05         CAD        0.5143  "
      ]
     },
     "execution_count": 3,
     "metadata": {},
     "output_type": "execute_result"
    }
   ],
   "source": [
    "import requests\n",
    "import pandas as pd\n",
    "\n",
    "url = \"https://alpha-vantage.p.rapidapi.com/query\"\n",
    "\n",
    "querystring = {\"datatype\":\"json\",\"keywords\":\"microsoft\",\"function\":\"SYMBOL_SEARCH\"}\n",
    "\n",
    "headers = {\n",
    "\t\"x-rapidapi-key\": \"1954377a57msh873ddf8212bbdbcp1ff9c0jsn6df9baa4ee5b\",\n",
    "\t\"x-rapidapi-host\": \"alpha-vantage.p.rapidapi.com\"\n",
    "}\n",
    "\n",
    "response = requests.get(url, headers=headers, params=querystring)\n",
    "\n",
    "data = response.json()[\"bestMatches\"]\n",
    "\n",
    "res = pd.DataFrame(data)\n",
    "\n",
    "res"
   ]
  },
  {
   "cell_type": "markdown",
   "id": "75cc07cd",
   "metadata": {},
   "source": [
    "### Getting acutal data for SBIN.BSE"
   ]
  },
  {
   "cell_type": "code",
   "execution_count": 4,
   "id": "001c88a1",
   "metadata": {},
   "outputs": [
    {
     "data": {
      "text/html": [
       "<div>\n",
       "<style scoped>\n",
       "    .dataframe tbody tr th:only-of-type {\n",
       "        vertical-align: middle;\n",
       "    }\n",
       "\n",
       "    .dataframe tbody tr th {\n",
       "        vertical-align: top;\n",
       "    }\n",
       "\n",
       "    .dataframe thead th {\n",
       "        text-align: right;\n",
       "    }\n",
       "</style>\n",
       "<table border=\"1\" class=\"dataframe\">\n",
       "  <thead>\n",
       "    <tr style=\"text-align: right;\">\n",
       "      <th></th>\n",
       "      <th>1. open</th>\n",
       "      <th>2. high</th>\n",
       "      <th>3. low</th>\n",
       "      <th>4. close</th>\n",
       "      <th>5. volume</th>\n",
       "    </tr>\n",
       "  </thead>\n",
       "  <tbody>\n",
       "    <tr>\n",
       "      <th>2025-05-09</th>\n",
       "      <td>755.25</td>\n",
       "      <td>781.40</td>\n",
       "      <td>755.25</td>\n",
       "      <td>779.40</td>\n",
       "      <td>375997.0</td>\n",
       "    </tr>\n",
       "    <tr>\n",
       "      <th>2025-05-08</th>\n",
       "      <td>778.00</td>\n",
       "      <td>786.50</td>\n",
       "      <td>765.00</td>\n",
       "      <td>768.75</td>\n",
       "      <td>463248.0</td>\n",
       "    </tr>\n",
       "    <tr>\n",
       "      <th>2025-05-07</th>\n",
       "      <td>762.25</td>\n",
       "      <td>782.55</td>\n",
       "      <td>762.25</td>\n",
       "      <td>776.15</td>\n",
       "      <td>581175.0</td>\n",
       "    </tr>\n",
       "    <tr>\n",
       "      <th>2025-05-06</th>\n",
       "      <td>792.20</td>\n",
       "      <td>799.00</td>\n",
       "      <td>771.15</td>\n",
       "      <td>774.15</td>\n",
       "      <td>761282.0</td>\n",
       "    </tr>\n",
       "    <tr>\n",
       "      <th>2025-05-05</th>\n",
       "      <td>784.95</td>\n",
       "      <td>799.10</td>\n",
       "      <td>783.65</td>\n",
       "      <td>790.00</td>\n",
       "      <td>771587.0</td>\n",
       "    </tr>\n",
       "    <tr>\n",
       "      <th>...</th>\n",
       "      <td>...</td>\n",
       "      <td>...</td>\n",
       "      <td>...</td>\n",
       "      <td>...</td>\n",
       "      <td>...</td>\n",
       "    </tr>\n",
       "    <tr>\n",
       "      <th>2024-12-17</th>\n",
       "      <td>859.75</td>\n",
       "      <td>862.95</td>\n",
       "      <td>847.15</td>\n",
       "      <td>850.20</td>\n",
       "      <td>143409.0</td>\n",
       "    </tr>\n",
       "    <tr>\n",
       "      <th>2024-12-16</th>\n",
       "      <td>859.00</td>\n",
       "      <td>866.20</td>\n",
       "      <td>857.80</td>\n",
       "      <td>860.70</td>\n",
       "      <td>252691.0</td>\n",
       "    </tr>\n",
       "    <tr>\n",
       "      <th>2024-12-13</th>\n",
       "      <td>853.70</td>\n",
       "      <td>863.00</td>\n",
       "      <td>835.00</td>\n",
       "      <td>861.70</td>\n",
       "      <td>455324.0</td>\n",
       "    </tr>\n",
       "    <tr>\n",
       "      <th>2024-12-12</th>\n",
       "      <td>862.50</td>\n",
       "      <td>864.20</td>\n",
       "      <td>851.25</td>\n",
       "      <td>853.75</td>\n",
       "      <td>179011.0</td>\n",
       "    </tr>\n",
       "    <tr>\n",
       "      <th>2024-12-11</th>\n",
       "      <td>865.75</td>\n",
       "      <td>869.75</td>\n",
       "      <td>860.80</td>\n",
       "      <td>861.55</td>\n",
       "      <td>342069.0</td>\n",
       "    </tr>\n",
       "  </tbody>\n",
       "</table>\n",
       "<p>100 rows × 5 columns</p>\n",
       "</div>"
      ],
      "text/plain": [
       "            1. open  2. high  3. low  4. close  5. volume\n",
       "2025-05-09   755.25   781.40  755.25    779.40   375997.0\n",
       "2025-05-08   778.00   786.50  765.00    768.75   463248.0\n",
       "2025-05-07   762.25   782.55  762.25    776.15   581175.0\n",
       "2025-05-06   792.20   799.00  771.15    774.15   761282.0\n",
       "2025-05-05   784.95   799.10  783.65    790.00   771587.0\n",
       "...             ...      ...     ...       ...        ...\n",
       "2024-12-17   859.75   862.95  847.15    850.20   143409.0\n",
       "2024-12-16   859.00   866.20  857.80    860.70   252691.0\n",
       "2024-12-13   853.70   863.00  835.00    861.70   455324.0\n",
       "2024-12-12   862.50   864.20  851.25    853.75   179011.0\n",
       "2024-12-11   865.75   869.75  860.80    861.55   342069.0\n",
       "\n",
       "[100 rows x 5 columns]"
      ]
     },
     "execution_count": 4,
     "metadata": {},
     "output_type": "execute_result"
    }
   ],
   "source": [
    "url = \"https://alpha-vantage.p.rapidapi.com/query\"\n",
    "\n",
    "querystring = {\n",
    "    \"function\": \"TIME_SERIES_DAILY\",\n",
    "    \"symbol\": \"SBIN.BSE\",\n",
    "    \"outputsize\": \"compact\",\n",
    "    \"datatype\": \"json\",\n",
    "}\n",
    "\n",
    "headers = {\n",
    "    \"x-rapidapi-key\": api_key,\n",
    "    \"x-rapidapi-host\": \"alpha-vantage.p.rapidapi.com\",\n",
    "}\n",
    "\n",
    "response = requests.get(url, headers=headers, params=querystring)\n",
    "\n",
    "data2 = response.json()[\"Time Series (Daily)\"]\n",
    "res2 = pd.DataFrame(data2).T\n",
    "\n",
    "# Convert output to float\n",
    "res2 = res2.astype(float)\n",
    "\n",
    "# Conert to index to datetime\n",
    "res2.index = pd.to_datetime(res2.index)\n",
    "\n",
    "res2"
   ]
  },
  {
   "cell_type": "code",
   "execution_count": 5,
   "id": "e5733d8d",
   "metadata": {},
   "outputs": [
    {
     "data": {
      "text/plain": [
       "1. open      float64\n",
       "2. high      float64\n",
       "3. low       float64\n",
       "4. close     float64\n",
       "5. volume    float64\n",
       "dtype: object"
      ]
     },
     "execution_count": 5,
     "metadata": {},
     "output_type": "execute_result"
    }
   ],
   "source": [
    "res2.dtypes"
   ]
  },
  {
   "cell_type": "code",
   "execution_count": 6,
   "id": "ade68893",
   "metadata": {},
   "outputs": [
    {
     "data": {
      "text/plain": [
       "DatetimeIndex(['2025-05-09', '2025-05-08', '2025-05-07', '2025-05-06',\n",
       "               '2025-05-05', '2025-05-02', '2025-04-30', '2025-04-29',\n",
       "               '2025-04-28', '2025-04-25', '2025-04-24', '2025-04-23',\n",
       "               '2025-04-22', '2025-04-21', '2025-04-17', '2025-04-16',\n",
       "               '2025-04-15', '2025-04-11', '2025-04-09', '2025-04-08',\n",
       "               '2025-04-07', '2025-04-04', '2025-04-03', '2025-04-02',\n",
       "               '2025-04-01', '2025-03-28', '2025-03-27', '2025-03-26',\n",
       "               '2025-03-25', '2025-03-24', '2025-03-21', '2025-03-20',\n",
       "               '2025-03-19', '2025-03-18', '2025-03-17', '2025-03-13',\n",
       "               '2025-03-12', '2025-03-11', '2025-03-10', '2025-03-07',\n",
       "               '2025-03-06', '2025-03-05', '2025-03-04', '2025-03-03',\n",
       "               '2025-02-28', '2025-02-27', '2025-02-25', '2025-02-24',\n",
       "               '2025-02-21', '2025-02-20', '2025-02-19', '2025-02-18',\n",
       "               '2025-02-17', '2025-02-14', '2025-02-13', '2025-02-12',\n",
       "               '2025-02-11', '2025-02-10', '2025-02-07', '2025-02-06',\n",
       "               '2025-02-05', '2025-02-04', '2025-02-03', '2025-01-31',\n",
       "               '2025-01-30', '2025-01-29', '2025-01-28', '2025-01-27',\n",
       "               '2025-01-24', '2025-01-23', '2025-01-22', '2025-01-21',\n",
       "               '2025-01-20', '2025-01-17', '2025-01-16', '2025-01-15',\n",
       "               '2025-01-14', '2025-01-13', '2025-01-10', '2025-01-09',\n",
       "               '2025-01-08', '2025-01-07', '2025-01-06', '2025-01-03',\n",
       "               '2025-01-02', '2025-01-01', '2024-12-31', '2024-12-30',\n",
       "               '2024-12-27', '2024-12-26', '2024-12-24', '2024-12-23',\n",
       "               '2024-12-20', '2024-12-19', '2024-12-18', '2024-12-17',\n",
       "               '2024-12-16', '2024-12-13', '2024-12-12', '2024-12-11'],\n",
       "              dtype='datetime64[ns]', freq=None)"
      ]
     },
     "execution_count": 6,
     "metadata": {},
     "output_type": "execute_result"
    }
   ],
   "source": [
    "res2.index\n"
   ]
  },
  {
   "cell_type": "code",
   "execution_count": 7,
   "id": "72e51285",
   "metadata": {},
   "outputs": [],
   "source": [
    "res2.to_csv(\"SBIN.csv\")\n"
   ]
  },
  {
   "cell_type": "code",
   "execution_count": 8,
   "id": "979344b8",
   "metadata": {},
   "outputs": [],
   "source": [
    "import plotly.graph_objects as go\n"
   ]
  },
  {
   "cell_type": "code",
   "execution_count": 9,
   "id": "6d494207",
   "metadata": {},
   "outputs": [
    {
     "data": {
      "application/vnd.plotly.v1+json": {
       "config": {
        "plotlyServerURL": "https://plot.ly"
       },
       "data": [
        {
         "close": {
          "bdata": "MzMzMzNbiEAAAAAAAAaIQDMzMzMzQYhAMzMzMzMxiEAAAAAAALCIQGZmZmZmAIlAMzMzMzOhiEAAAAAAAF6JQM3MzMzMjIlAAAAAAAD2iECamZmZmWmJQGZmZmZmaolAmpmZmZmziUDNzMzMzISJQM3MzMzM6IhAAAAAAAAeiEBmZmZmZtqHQGZmZmZmkIdAZmZmZmYwh0AzMzMzMwOIQAAAAAAAVodAZmZmZmb+h0CamZmZmVmIQM3MzMzMPohAAAAAAAAciEDNzMzMzByIQDMzMzMzI4hAzczMzMzah0BmZmZmZiiIQDMzMzMza4hAAAAAAACIh0CamZmZmWmHQGZmZmZmSIdAZmZmZmYIh0CamZmZmZWGQAAAAAAAvoZAMzMzMzOXhkCamZmZmc+GQM3MzMzMwoZAAAAAAADmhkCamZmZmd+GQAAAAAAA0oZAMzMzMzNhhkAzMzMzM7mFQAAAAAAAgoVAmpmZmZn/hUAAAAAAADiGQDMzMzMzY4ZAZmZmZmaMhkAzMzMzM82GQGZmZmZmtoZAAAAAAACuhkBmZmZmZsCGQAAAAAAAkIZAZmZmZma6hkAAAAAAAOqGQAAAAAAA2IZAzczMzMwGh0BmZmZmZgiHQM3MzMzMgodAzczMzMzwh0CamZmZmVmIQAAAAAAAyIdAzczMzMwoiECamZmZmdGHQJqZmZmZtYdAMzMzMzN9h0CamZmZmWmHQM3MzMzMQodAmpmZmZlPh0AAAAAAAIqHQAAAAAAAuIdAZmZmZmZYiEDNzMzMzOCHQDMzMzMz84dAAAAAAACQh0DNzMzMzGCHQM3MzMzMzIZAMzMzMzM5h0DNzMzMzMKHQJqZmZmZGYhAAAAAAABYiEAAAAAAAEaIQAAAAAAAzIhAZmZmZmYIiUDNzMzMzMqIQGZmZmZm2IhAZmZmZmaiiEBmZmZmZvyIQDMzMzMzXYlAzczMzMxeiUCamZmZmaeJQAAAAAAAZIlAZmZmZmYGikBmZmZmZjiKQJqZmZmZkYpAmpmZmZnlikCamZmZme2KQAAAAAAAropAZmZmZmbsikA=",
          "dtype": "f8"
         },
         "high": {
          "bdata": "MzMzMzNriEAAAAAAAJSIQGZmZmZmdIhAAAAAAAD4iEDNzMzMzPiIQJqZmZmZF4lAzczMzMxmiUAAAAAAAOiJQAAAAAAAtIlAzczMzMyYiUAzMzMzM5mJQAAAAAAA8IlAMzMzMzMbikAAAAAAAMKJQAAAAAAACIlAZmZmZmY0iEDNzMzMzBSIQJqZmZmZv4dAAAAAAAAIiEDNzMzMzDCIQJqZmZmZh4dAAAAAAAByiEDNzMzMzIaIQGZmZmZmRohAAAAAAAB0iECamZmZmVOIQAAAAAAAOIhAmpmZmZk/iEAAAAAAAJCIQDMzMzMzeYhAMzMzMzObh0BmZmZmZoaHQAAAAAAAaIdAAAAAAAAUh0CamZmZmdeGQJqZmZmZ24ZAAAAAAAAEh0AzMzMzM++GQJqZmZmZE4dAMzMzMzP3hkCamZmZmQ+HQAAAAAAA2IZAMzMzMzNxhkDNzMzMzMaFQGZmZmZm7oVAMzMzMzNnhkAAAAAAAHiGQGZmZmZmfoZAAAAAAADghkBmZmZmZt6GQAAAAAAA9oZAmpmZmZm/hkCamZmZmceGQJqZmZmZ5YZAZmZmZmYKh0BmZmZmZhKHQAAAAAAAIIdAZmZmZmZAh0BmZmZmZs6HQJqZmZmZF4hAzczMzMxsiEDNzMzMzGaIQDMzMzMz3YdAAAAAAABOiEDNzMzMzOaHQAAAAAAAwodAzczMzMy8h0BmZmZmZpqHQAAAAAAAjodAZmZmZmaeh0DNzMzMzNaHQGZmZmZmiohAmpmZmZmHiEDNzMzMzP6HQGZmZmZmRIhAzczMzMy2h0AzMzMzM6eHQM3MzMzMPodAZmZmZmbGh0CamZmZmR+IQAAAAAAAdIhAAAAAAAB+iEAAAAAAAPCIQJqZmZmZTYlAMzMzMzMTiUAAAAAAAPSIQJqZmZmZ94hAAAAAAABAiUAAAAAAAJaJQJqZmZmZt4lAZmZmZmbMiUAzMzMzM7+JQDMzMzMzI4pAMzMzMzMvikBmZmZmZpaKQJqZmZmZ94pAmpmZmZkRi0AAAAAAAPiKQJqZmZmZAYtAAAAAAAAui0A=",
          "dtype": "f8"
         },
         "low": {
          "bdata": "AAAAAACah0AAAAAAAOiHQAAAAAAA0odAMzMzMzMZiEAzMzMzM32IQAAAAAAAqohAmpmZmZmDiEAAAAAAAEaJQGZmZmZm4ohAzczMzMyYiEAAAAAAAFiJQJqZmZmZT4lAZmZmZmZuiUDNzMzMzAyJQAAAAAAA+odAMzMzMzPDh0AzMzMzM62HQDMzMzMzUYdAAAAAAAAmh0AAAAAAAKiHQJqZmZmZ14ZAAAAAAADoh0AAAAAAABCIQGZmZmZm4odAZmZmZmbYh0AAAAAAAACIQAAAAAAAxodAZmZmZmbOh0AzMzMzMw2IQGZmZmZmmIdAmpmZmZlZh0CamZmZmUGHQAAAAAAAGodAAAAAAACYhkDNzMzMzJCGQM3MzMzMooZAmpmZmZl5hkAAAAAAAJSGQGZmZmZmuIZAmpmZmZm/hkDNzMzMzLiGQGZmZmZmboZAMzMzMzOhhUAzMzMzMz2FQM3MzMzMVoVAAAAAAADohUCamZmZmS+GQDMzMzMzN4ZAAAAAAACAhkBmZmZmZpiGQM3MzMzMkIZAmpmZmZlrhkAzMzMzMzuGQDMzMzMzYYZAZmZmZmawhkAAAAAAAGqGQDMzMzMzt4ZAzczMzMzshkBmZmZmZuCGQAAAAAAAcIdAMzMzMzPlh0AAAAAAAPCHQJqZmZmZi4dAzczMzMy6h0CamZmZmZWHQGZmZmZmbodAMzMzMzNNh0AAAAAAAACHQM3MzMzMFodAZmZmZmY6h0BmZmZmZhKHQAAAAAAAoodAZmZmZmboh0CamZmZmbuHQGZmZmZmwIdAzczMzMxyh0DNzMzMzNSGQAAAAAAAlIZAAAAAAAAwh0AzMzMzM7eGQM3MzMzMwIdAzczMzMw4iEBmZmZmZiqIQAAAAAAAwohAZmZmZmaSiEDNzMzMzKyIQAAAAAAAmIhAmpmZmZmJiEAAAAAAAOqIQAAAAAAAQIlAmpmZmZlJiUAzMzMzM2OJQAAAAAAAUIlAzczMzMygiUCamZmZmSWKQDMzMzMzeYpAZmZmZmbOikAAAAAAABiKQAAAAAAAmopAZmZmZmbmikA=",
          "dtype": "f8"
         },
         "open": {
          "bdata": "AAAAAACah0AAAAAAAFCIQAAAAAAA0odAmpmZmZnBiECamZmZmYeIQGZmZmZmwIhAzczMzMxmiUAAAAAAAKCJQGZmZmZm4ohAzczMzMxsiUBmZmZmZmqJQM3MzMzMzolAmpmZmZmpiUAAAAAAABiJQM3MzMzMGIhAAAAAAADgh0BmZmZmZgCIQJqZmZmZv4dAZmZmZmYGiEAAAAAAAKiHQGZmZmZm4oZAmpmZmZlZiEAAAAAAABCIQAAAAAAAIIhAmpmZmZn/h0CamZmZmRWIQJqZmZmZ1YdAZmZmZmYSiEAzMzMzM4OIQAAAAAAAtIdAMzMzMzNph0CamZmZmW+HQDMzMzMzH4dAAAAAAAC4hkAAAAAAAMiGQDMzMzMzt4ZAmpmZmZnPhkAzMzMzM6eGQJqZmZmZ54ZAmpmZmZnnhkCamZmZmQ+HQM3MzMzMdoZAMzMzMzOrhUAAAAAAAKKFQGZmZmZm7oVAMzMzMzNnhkAAAAAAAHiGQDMzMzMzRYZAmpmZmZnJhkBmZmZmZr6GQGZmZmZmloZAmpmZmZm/hkDNzMzMzI6GQJqZmZmZy4ZAAAAAAAD4hkCamZmZmeeGQDMzMzMzEYdAZmZmZmYkh0BmZmZmZs6HQDMzMzMzDYhAZmZmZmZmiEBmZmZmZvKHQDMzMzMz3YdAAAAAAADoh0AzMzMzM7uHQAAAAAAAhIdAmpmZmZmhh0AAAAAAACCHQJqZmZmZWYdAmpmZmZl/h0DNzMzMzNaHQJqZmZmZh4hAZmZmZmboh0AzMzMzM/eHQDMzMzMzzYdAmpmZmZmNh0DNzMzMzNSGQJqZmZmZN4dAzczMzMzCh0CamZmZmR+IQAAAAAAAaIhAZmZmZmZQiEAAAAAAAPCIQDMzMzMzD4lAAAAAAADYiEDNzMzMzOaIQAAAAAAApohAmpmZmZkViUAAAAAAAIqJQAAAAAAAaIlAAAAAAADIiUDNzMzMzJKJQGZmZmZmDopAZmZmZmawiUCamZmZmZGKQAAAAAAA3opAAAAAAADYikCamZmZma2KQAAAAAAA9IpAAAAAAAAOi0A=",
          "dtype": "f8"
         },
         "type": "candlestick",
         "x": [
          "2025-05-09T00:00:00.000000000",
          "2025-05-08T00:00:00.000000000",
          "2025-05-07T00:00:00.000000000",
          "2025-05-06T00:00:00.000000000",
          "2025-05-05T00:00:00.000000000",
          "2025-05-02T00:00:00.000000000",
          "2025-04-30T00:00:00.000000000",
          "2025-04-29T00:00:00.000000000",
          "2025-04-28T00:00:00.000000000",
          "2025-04-25T00:00:00.000000000",
          "2025-04-24T00:00:00.000000000",
          "2025-04-23T00:00:00.000000000",
          "2025-04-22T00:00:00.000000000",
          "2025-04-21T00:00:00.000000000",
          "2025-04-17T00:00:00.000000000",
          "2025-04-16T00:00:00.000000000",
          "2025-04-15T00:00:00.000000000",
          "2025-04-11T00:00:00.000000000",
          "2025-04-09T00:00:00.000000000",
          "2025-04-08T00:00:00.000000000",
          "2025-04-07T00:00:00.000000000",
          "2025-04-04T00:00:00.000000000",
          "2025-04-03T00:00:00.000000000",
          "2025-04-02T00:00:00.000000000",
          "2025-04-01T00:00:00.000000000",
          "2025-03-28T00:00:00.000000000",
          "2025-03-27T00:00:00.000000000",
          "2025-03-26T00:00:00.000000000",
          "2025-03-25T00:00:00.000000000",
          "2025-03-24T00:00:00.000000000",
          "2025-03-21T00:00:00.000000000",
          "2025-03-20T00:00:00.000000000",
          "2025-03-19T00:00:00.000000000",
          "2025-03-18T00:00:00.000000000",
          "2025-03-17T00:00:00.000000000",
          "2025-03-13T00:00:00.000000000",
          "2025-03-12T00:00:00.000000000",
          "2025-03-11T00:00:00.000000000",
          "2025-03-10T00:00:00.000000000",
          "2025-03-07T00:00:00.000000000",
          "2025-03-06T00:00:00.000000000",
          "2025-03-05T00:00:00.000000000",
          "2025-03-04T00:00:00.000000000",
          "2025-03-03T00:00:00.000000000",
          "2025-02-28T00:00:00.000000000",
          "2025-02-27T00:00:00.000000000",
          "2025-02-25T00:00:00.000000000",
          "2025-02-24T00:00:00.000000000",
          "2025-02-21T00:00:00.000000000",
          "2025-02-20T00:00:00.000000000",
          "2025-02-19T00:00:00.000000000",
          "2025-02-18T00:00:00.000000000",
          "2025-02-17T00:00:00.000000000",
          "2025-02-14T00:00:00.000000000",
          "2025-02-13T00:00:00.000000000",
          "2025-02-12T00:00:00.000000000",
          "2025-02-11T00:00:00.000000000",
          "2025-02-10T00:00:00.000000000",
          "2025-02-07T00:00:00.000000000",
          "2025-02-06T00:00:00.000000000",
          "2025-02-05T00:00:00.000000000",
          "2025-02-04T00:00:00.000000000",
          "2025-02-03T00:00:00.000000000",
          "2025-01-31T00:00:00.000000000",
          "2025-01-30T00:00:00.000000000",
          "2025-01-29T00:00:00.000000000",
          "2025-01-28T00:00:00.000000000",
          "2025-01-27T00:00:00.000000000",
          "2025-01-24T00:00:00.000000000",
          "2025-01-23T00:00:00.000000000",
          "2025-01-22T00:00:00.000000000",
          "2025-01-21T00:00:00.000000000",
          "2025-01-20T00:00:00.000000000",
          "2025-01-17T00:00:00.000000000",
          "2025-01-16T00:00:00.000000000",
          "2025-01-15T00:00:00.000000000",
          "2025-01-14T00:00:00.000000000",
          "2025-01-13T00:00:00.000000000",
          "2025-01-10T00:00:00.000000000",
          "2025-01-09T00:00:00.000000000",
          "2025-01-08T00:00:00.000000000",
          "2025-01-07T00:00:00.000000000",
          "2025-01-06T00:00:00.000000000",
          "2025-01-03T00:00:00.000000000",
          "2025-01-02T00:00:00.000000000",
          "2025-01-01T00:00:00.000000000",
          "2024-12-31T00:00:00.000000000",
          "2024-12-30T00:00:00.000000000",
          "2024-12-27T00:00:00.000000000",
          "2024-12-26T00:00:00.000000000",
          "2024-12-24T00:00:00.000000000",
          "2024-12-23T00:00:00.000000000",
          "2024-12-20T00:00:00.000000000",
          "2024-12-19T00:00:00.000000000",
          "2024-12-18T00:00:00.000000000",
          "2024-12-17T00:00:00.000000000",
          "2024-12-16T00:00:00.000000000",
          "2024-12-13T00:00:00.000000000",
          "2024-12-12T00:00:00.000000000",
          "2024-12-11T00:00:00.000000000"
         ]
        }
       ],
       "layout": {
        "height": 800,
        "template": {
         "data": {
          "candlestick": [
           {
            "decreasing": {
             "line": {
              "color": "#000033"
             }
            },
            "increasing": {
             "line": {
              "color": "#000032"
             }
            },
            "type": "candlestick"
           }
          ],
          "contour": [
           {
            "colorscale": [
             [
              0,
              "#000011"
             ],
             [
              0.1111111111111111,
              "#000012"
             ],
             [
              0.2222222222222222,
              "#000013"
             ],
             [
              0.3333333333333333,
              "#000014"
             ],
             [
              0.4444444444444444,
              "#000015"
             ],
             [
              0.5555555555555556,
              "#000016"
             ],
             [
              0.6666666666666666,
              "#000017"
             ],
             [
              0.7777777777777778,
              "#000018"
             ],
             [
              0.8888888888888888,
              "#000019"
             ],
             [
              1,
              "#000020"
             ]
            ],
            "type": "contour"
           }
          ],
          "contourcarpet": [
           {
            "colorscale": [
             [
              0,
              "#000011"
             ],
             [
              0.1111111111111111,
              "#000012"
             ],
             [
              0.2222222222222222,
              "#000013"
             ],
             [
              0.3333333333333333,
              "#000014"
             ],
             [
              0.4444444444444444,
              "#000015"
             ],
             [
              0.5555555555555556,
              "#000016"
             ],
             [
              0.6666666666666666,
              "#000017"
             ],
             [
              0.7777777777777778,
              "#000018"
             ],
             [
              0.8888888888888888,
              "#000019"
             ],
             [
              1,
              "#000020"
             ]
            ],
            "type": "contourcarpet"
           }
          ],
          "heatmap": [
           {
            "colorscale": [
             [
              0,
              "#000011"
             ],
             [
              0.1111111111111111,
              "#000012"
             ],
             [
              0.2222222222222222,
              "#000013"
             ],
             [
              0.3333333333333333,
              "#000014"
             ],
             [
              0.4444444444444444,
              "#000015"
             ],
             [
              0.5555555555555556,
              "#000016"
             ],
             [
              0.6666666666666666,
              "#000017"
             ],
             [
              0.7777777777777778,
              "#000018"
             ],
             [
              0.8888888888888888,
              "#000019"
             ],
             [
              1,
              "#000020"
             ]
            ],
            "type": "heatmap"
           }
          ],
          "histogram2d": [
           {
            "colorscale": [
             [
              0,
              "#000011"
             ],
             [
              0.1111111111111111,
              "#000012"
             ],
             [
              0.2222222222222222,
              "#000013"
             ],
             [
              0.3333333333333333,
              "#000014"
             ],
             [
              0.4444444444444444,
              "#000015"
             ],
             [
              0.5555555555555556,
              "#000016"
             ],
             [
              0.6666666666666666,
              "#000017"
             ],
             [
              0.7777777777777778,
              "#000018"
             ],
             [
              0.8888888888888888,
              "#000019"
             ],
             [
              1,
              "#000020"
             ]
            ],
            "type": "histogram2d"
           }
          ],
          "icicle": [
           {
            "textfont": {
             "color": "white"
            },
            "type": "icicle"
           }
          ],
          "sankey": [
           {
            "textfont": {
             "color": "#000036"
            },
            "type": "sankey"
           }
          ],
          "scatter": [
           {
            "marker": {
             "line": {
              "width": 0
             }
            },
            "type": "scatter"
           }
          ],
          "table": [
           {
            "cells": {
             "fill": {
              "color": "#000038"
             },
             "font": {
              "color": "#000037"
             },
             "line": {
              "color": "#000039"
             }
            },
            "header": {
             "fill": {
              "color": "#000040"
             },
             "font": {
              "color": "#000036"
             },
             "line": {
              "color": "#000039"
             }
            },
            "type": "table"
           }
          ],
          "waterfall": [
           {
            "connector": {
             "line": {
              "color": "#000036",
              "width": 2
             }
            },
            "decreasing": {
             "marker": {
              "color": "#000033"
             }
            },
            "increasing": {
             "marker": {
              "color": "#000032"
             }
            },
            "totals": {
             "marker": {
              "color": "#000034"
             }
            },
            "type": "waterfall"
           }
          ]
         },
         "layout": {
          "coloraxis": {
           "colorscale": [
            [
             0,
             "#000011"
            ],
            [
             0.1111111111111111,
             "#000012"
            ],
            [
             0.2222222222222222,
             "#000013"
            ],
            [
             0.3333333333333333,
             "#000014"
            ],
            [
             0.4444444444444444,
             "#000015"
            ],
            [
             0.5555555555555556,
             "#000016"
            ],
            [
             0.6666666666666666,
             "#000017"
            ],
            [
             0.7777777777777778,
             "#000018"
            ],
            [
             0.8888888888888888,
             "#000019"
            ],
            [
             1,
             "#000020"
            ]
           ]
          },
          "colorscale": {
           "diverging": [
            [
             0,
             "#000021"
            ],
            [
             0.1,
             "#000022"
            ],
            [
             0.2,
             "#000023"
            ],
            [
             0.3,
             "#000024"
            ],
            [
             0.4,
             "#000025"
            ],
            [
             0.5,
             "#000026"
            ],
            [
             0.6,
             "#000027"
            ],
            [
             0.7,
             "#000028"
            ],
            [
             0.8,
             "#000029"
            ],
            [
             0.9,
             "#000030"
            ],
            [
             1,
             "#000031"
            ]
           ],
           "sequential": [
            [
             0,
             "#000011"
            ],
            [
             0.1111111111111111,
             "#000012"
            ],
            [
             0.2222222222222222,
             "#000013"
            ],
            [
             0.3333333333333333,
             "#000014"
            ],
            [
             0.4444444444444444,
             "#000015"
            ],
            [
             0.5555555555555556,
             "#000016"
            ],
            [
             0.6666666666666666,
             "#000017"
            ],
            [
             0.7777777777777778,
             "#000018"
            ],
            [
             0.8888888888888888,
             "#000019"
            ],
            [
             1,
             "#000020"
            ]
           ],
           "sequentialminus": [
            [
             0,
             "#000011"
            ],
            [
             0.1111111111111111,
             "#000012"
            ],
            [
             0.2222222222222222,
             "#000013"
            ],
            [
             0.3333333333333333,
             "#000014"
            ],
            [
             0.4444444444444444,
             "#000015"
            ],
            [
             0.5555555555555556,
             "#000016"
            ],
            [
             0.6666666666666666,
             "#000017"
            ],
            [
             0.7777777777777778,
             "#000018"
            ],
            [
             0.8888888888888888,
             "#000019"
            ],
            [
             1,
             "#000020"
            ]
           ]
          },
          "colorway": [
           "#000001",
           "#000002",
           "#000003",
           "#000004",
           "#000005",
           "#000006",
           "#000007",
           "#000008",
           "#000009",
           "#000010"
          ]
         }
        },
        "width": 1000
       }
      }
     },
     "metadata": {},
     "output_type": "display_data"
    }
   ],
   "source": [
    "fig = go.Figure(\n",
    "    data=[\n",
    "        go.Candlestick(\n",
    "            x=res2.index,\n",
    "            open=res2[\"1. open\"],\n",
    "            high=res2[\"2. high\"],\n",
    "            low=res2[\"3. low\"],\n",
    "            close=res2[\"4. close\"],\n",
    "        )\n",
    "    ]\n",
    ")\n",
    "\n",
    "fig.update_layout({\"width\": 1000, \"height\": 800})\n",
    "\n",
    "fig.show()"
   ]
  },
  {
   "cell_type": "markdown",
   "id": "2249e357",
   "metadata": {},
   "source": [
    "## Create a class to show data / plot for any stocks"
   ]
  },
  {
   "cell_type": "code",
   "execution_count": 10,
   "id": "0b8af4ef",
   "metadata": {},
   "outputs": [],
   "source": [
    "class StockAPI:\n",
    "\n",
    "    def __init__(self):\n",
    "        self.api_key = st.secrets[\"API_KEY\"]\n",
    "        self.url = \"https://alpha-vantage.p.rapidapi.com/query\"\n",
    "        self.headers = {\n",
    "            \"x-rapidapi-key\": self.api_key,\n",
    "            \"x-rapidapi-host\": \"alpha-vantage.p.rapidapi.com\",\n",
    "        }\n",
    "\n",
    "    def symbol_search(self, company: str) -> pd.DataFrame:\n",
    "        querystring = {\n",
    "            \"datatype\": \"json\",\n",
    "            \"keywords\": company,\n",
    "            \"function\": \"SYMBOL_SEARCH\",\n",
    "        }\n",
    "        response = requests.get(url=self.url, headers=self.headers, params=querystring)\n",
    "        data = response.json()[\"bestMatches\"]\n",
    "        return pd.DataFrame(data)\n",
    "\n",
    "    def stock_data(self, symbol: str) -> pd.DataFrame:\n",
    "        querystring = {\n",
    "            \"function\": \"TIME_SERIES_DAILY\",\n",
    "            \"symbol\": symbol,\n",
    "            \"outputsize\": \"compact\",\n",
    "            \"datatype\": \"json\",\n",
    "        }\n",
    "        response = requests.get(url=self.url, headers=self.headers, params=querystring)\n",
    "        data2 = response.json()[\"Time Series (Daily)\"]\n",
    "        res2 = pd.DataFrame(data2).T\n",
    "\n",
    "        # Convert output to float\n",
    "        res2 = res2.astype(float)\n",
    "\n",
    "        # Conert to index to datetime\n",
    "        res2.index = pd.to_datetime(res2.index)\n",
    "\n",
    "        return res2\n",
    "    \n",
    "    def plot_chart(self, df: pd.DataFrame) -> go.Figure:\n",
    "        fig = go.Figure(\n",
    "            data=[\n",
    "                go.Candlestick(\n",
    "                    x=df.index,\n",
    "                    open=df[\"1. open\"],\n",
    "                    high=df[\"2. high\"],\n",
    "                    low=df[\"3. low\"],\n",
    "                    close=df[\"4. close\"],\n",
    "                )\n",
    "            ]\n",
    "        )\n",
    "\n",
    "        fig.update_layout({\"width\": 1000, \"height\": 800})\n",
    "        return fig"
   ]
  },
  {
   "cell_type": "code",
   "execution_count": 11,
   "id": "e48cf5e8",
   "metadata": {},
   "outputs": [],
   "source": [
    "client = StockAPI()"
   ]
  },
  {
   "cell_type": "code",
   "execution_count": 12,
   "id": "b61f5306",
   "metadata": {},
   "outputs": [
    {
     "data": {
      "text/html": [
       "<div>\n",
       "<style scoped>\n",
       "    .dataframe tbody tr th:only-of-type {\n",
       "        vertical-align: middle;\n",
       "    }\n",
       "\n",
       "    .dataframe tbody tr th {\n",
       "        vertical-align: top;\n",
       "    }\n",
       "\n",
       "    .dataframe thead th {\n",
       "        text-align: right;\n",
       "    }\n",
       "</style>\n",
       "<table border=\"1\" class=\"dataframe\">\n",
       "  <thead>\n",
       "    <tr style=\"text-align: right;\">\n",
       "      <th></th>\n",
       "      <th>1. symbol</th>\n",
       "      <th>2. name</th>\n",
       "      <th>3. type</th>\n",
       "      <th>4. region</th>\n",
       "      <th>5. marketOpen</th>\n",
       "      <th>6. marketClose</th>\n",
       "      <th>7. timezone</th>\n",
       "      <th>8. currency</th>\n",
       "      <th>9. matchScore</th>\n",
       "    </tr>\n",
       "  </thead>\n",
       "  <tbody>\n",
       "    <tr>\n",
       "      <th>0</th>\n",
       "      <td>HDB</td>\n",
       "      <td>HDFC Bank Ltd</td>\n",
       "      <td>Equity</td>\n",
       "      <td>United States</td>\n",
       "      <td>09:30</td>\n",
       "      <td>16:00</td>\n",
       "      <td>UTC-04</td>\n",
       "      <td>USD</td>\n",
       "      <td>0.8182</td>\n",
       "    </tr>\n",
       "    <tr>\n",
       "      <th>1</th>\n",
       "      <td>HDFCBANK.BSE</td>\n",
       "      <td>HDFC Bank Limited</td>\n",
       "      <td>Equity</td>\n",
       "      <td>India/Bombay</td>\n",
       "      <td>09:15</td>\n",
       "      <td>15:30</td>\n",
       "      <td>UTC+5.5</td>\n",
       "      <td>INR</td>\n",
       "      <td>0.8000</td>\n",
       "    </tr>\n",
       "    <tr>\n",
       "      <th>2</th>\n",
       "      <td>H1DB34.SAO</td>\n",
       "      <td>HDFC Bank Limited</td>\n",
       "      <td>Equity</td>\n",
       "      <td>Brazil/Sao Paolo</td>\n",
       "      <td>10:00</td>\n",
       "      <td>17:30</td>\n",
       "      <td>UTC-03</td>\n",
       "      <td>BRL</td>\n",
       "      <td>0.6923</td>\n",
       "    </tr>\n",
       "    <tr>\n",
       "      <th>3</th>\n",
       "      <td>HDFA.FRK</td>\n",
       "      <td>HDFC Bank Limited</td>\n",
       "      <td>Equity</td>\n",
       "      <td>Frankfurt</td>\n",
       "      <td>08:00</td>\n",
       "      <td>20:00</td>\n",
       "      <td>UTC+02</td>\n",
       "      <td>EUR</td>\n",
       "      <td>0.6923</td>\n",
       "    </tr>\n",
       "  </tbody>\n",
       "</table>\n",
       "</div>"
      ],
      "text/plain": [
       "      1. symbol            2. name 3. type         4. region 5. marketOpen  \\\n",
       "0           HDB      HDFC Bank Ltd  Equity     United States         09:30   \n",
       "1  HDFCBANK.BSE  HDFC Bank Limited  Equity      India/Bombay         09:15   \n",
       "2    H1DB34.SAO  HDFC Bank Limited  Equity  Brazil/Sao Paolo         10:00   \n",
       "3      HDFA.FRK  HDFC Bank Limited  Equity         Frankfurt         08:00   \n",
       "\n",
       "  6. marketClose 7. timezone 8. currency 9. matchScore  \n",
       "0          16:00      UTC-04         USD        0.8182  \n",
       "1          15:30     UTC+5.5         INR        0.8000  \n",
       "2          17:30      UTC-03         BRL        0.6923  \n",
       "3          20:00      UTC+02         EUR        0.6923  "
      ]
     },
     "execution_count": 12,
     "metadata": {},
     "output_type": "execute_result"
    }
   ],
   "source": [
    "client.symbol_search(\"HDFC Bank\")\n"
   ]
  },
  {
   "cell_type": "code",
   "execution_count": 13,
   "id": "32ccc9ff",
   "metadata": {},
   "outputs": [
    {
     "data": {
      "text/html": [
       "<div>\n",
       "<style scoped>\n",
       "    .dataframe tbody tr th:only-of-type {\n",
       "        vertical-align: middle;\n",
       "    }\n",
       "\n",
       "    .dataframe tbody tr th {\n",
       "        vertical-align: top;\n",
       "    }\n",
       "\n",
       "    .dataframe thead th {\n",
       "        text-align: right;\n",
       "    }\n",
       "</style>\n",
       "<table border=\"1\" class=\"dataframe\">\n",
       "  <thead>\n",
       "    <tr style=\"text-align: right;\">\n",
       "      <th></th>\n",
       "      <th>1. symbol</th>\n",
       "      <th>2. name</th>\n",
       "      <th>3. type</th>\n",
       "      <th>4. region</th>\n",
       "      <th>5. marketOpen</th>\n",
       "      <th>6. marketClose</th>\n",
       "      <th>7. timezone</th>\n",
       "      <th>8. currency</th>\n",
       "      <th>9. matchScore</th>\n",
       "    </tr>\n",
       "  </thead>\n",
       "  <tbody>\n",
       "    <tr>\n",
       "      <th>0</th>\n",
       "      <td>TSLA</td>\n",
       "      <td>Tesla Inc</td>\n",
       "      <td>Equity</td>\n",
       "      <td>United States</td>\n",
       "      <td>09:30</td>\n",
       "      <td>16:00</td>\n",
       "      <td>UTC-04</td>\n",
       "      <td>USD</td>\n",
       "      <td>0.8889</td>\n",
       "    </tr>\n",
       "    <tr>\n",
       "      <th>1</th>\n",
       "      <td>TL0.DEX</td>\n",
       "      <td>Tesla Inc</td>\n",
       "      <td>Equity</td>\n",
       "      <td>XETRA</td>\n",
       "      <td>08:00</td>\n",
       "      <td>20:00</td>\n",
       "      <td>UTC+02</td>\n",
       "      <td>EUR</td>\n",
       "      <td>0.7143</td>\n",
       "    </tr>\n",
       "    <tr>\n",
       "      <th>2</th>\n",
       "      <td>TL0.FRK</td>\n",
       "      <td>Tesla Inc</td>\n",
       "      <td>Equity</td>\n",
       "      <td>Frankfurt</td>\n",
       "      <td>08:00</td>\n",
       "      <td>20:00</td>\n",
       "      <td>UTC+02</td>\n",
       "      <td>EUR</td>\n",
       "      <td>0.7143</td>\n",
       "    </tr>\n",
       "    <tr>\n",
       "      <th>3</th>\n",
       "      <td>TSLA34.SAO</td>\n",
       "      <td>Tesla Inc</td>\n",
       "      <td>Equity</td>\n",
       "      <td>Brazil/Sao Paolo</td>\n",
       "      <td>10:00</td>\n",
       "      <td>17:30</td>\n",
       "      <td>UTC-03</td>\n",
       "      <td>BRL</td>\n",
       "      <td>0.7143</td>\n",
       "    </tr>\n",
       "    <tr>\n",
       "      <th>4</th>\n",
       "      <td>TSLA.TRT</td>\n",
       "      <td>Tesla CDR (CAD Hedged)</td>\n",
       "      <td>Equity</td>\n",
       "      <td>Toronto</td>\n",
       "      <td>09:30</td>\n",
       "      <td>16:00</td>\n",
       "      <td>UTC-05</td>\n",
       "      <td>CAD</td>\n",
       "      <td>0.6667</td>\n",
       "    </tr>\n",
       "    <tr>\n",
       "      <th>5</th>\n",
       "      <td>TL01.FRK</td>\n",
       "      <td>TESLA INC. CDR DL-001</td>\n",
       "      <td>Equity</td>\n",
       "      <td>Frankfurt</td>\n",
       "      <td>08:00</td>\n",
       "      <td>20:00</td>\n",
       "      <td>UTC+02</td>\n",
       "      <td>EUR</td>\n",
       "      <td>0.3846</td>\n",
       "    </tr>\n",
       "  </tbody>\n",
       "</table>\n",
       "</div>"
      ],
      "text/plain": [
       "    1. symbol                 2. name 3. type         4. region 5. marketOpen  \\\n",
       "0        TSLA               Tesla Inc  Equity     United States         09:30   \n",
       "1     TL0.DEX               Tesla Inc  Equity             XETRA         08:00   \n",
       "2     TL0.FRK               Tesla Inc  Equity         Frankfurt         08:00   \n",
       "3  TSLA34.SAO               Tesla Inc  Equity  Brazil/Sao Paolo         10:00   \n",
       "4    TSLA.TRT  Tesla CDR (CAD Hedged)  Equity           Toronto         09:30   \n",
       "5    TL01.FRK   TESLA INC. CDR DL-001  Equity         Frankfurt         08:00   \n",
       "\n",
       "  6. marketClose 7. timezone 8. currency 9. matchScore  \n",
       "0          16:00      UTC-04         USD        0.8889  \n",
       "1          20:00      UTC+02         EUR        0.7143  \n",
       "2          20:00      UTC+02         EUR        0.7143  \n",
       "3          17:30      UTC-03         BRL        0.7143  \n",
       "4          16:00      UTC-05         CAD        0.6667  \n",
       "5          20:00      UTC+02         EUR        0.3846  "
      ]
     },
     "execution_count": 13,
     "metadata": {},
     "output_type": "execute_result"
    }
   ],
   "source": [
    "client.symbol_search(\"Tesla\")\n"
   ]
  },
  {
   "cell_type": "code",
   "execution_count": 14,
   "id": "8db487fb",
   "metadata": {},
   "outputs": [
    {
     "data": {
      "text/html": [
       "<div>\n",
       "<style scoped>\n",
       "    .dataframe tbody tr th:only-of-type {\n",
       "        vertical-align: middle;\n",
       "    }\n",
       "\n",
       "    .dataframe tbody tr th {\n",
       "        vertical-align: top;\n",
       "    }\n",
       "\n",
       "    .dataframe thead th {\n",
       "        text-align: right;\n",
       "    }\n",
       "</style>\n",
       "<table border=\"1\" class=\"dataframe\">\n",
       "  <thead>\n",
       "    <tr style=\"text-align: right;\">\n",
       "      <th></th>\n",
       "      <th>1. open</th>\n",
       "      <th>2. high</th>\n",
       "      <th>3. low</th>\n",
       "      <th>4. close</th>\n",
       "      <th>5. volume</th>\n",
       "    </tr>\n",
       "  </thead>\n",
       "  <tbody>\n",
       "    <tr>\n",
       "      <th>2025-05-09</th>\n",
       "      <td>1905.15</td>\n",
       "      <td>1919.00</td>\n",
       "      <td>1886.45</td>\n",
       "      <td>1889.20</td>\n",
       "      <td>107594.0</td>\n",
       "    </tr>\n",
       "    <tr>\n",
       "      <th>2025-05-08</th>\n",
       "      <td>1955.00</td>\n",
       "      <td>1955.00</td>\n",
       "      <td>1918.10</td>\n",
       "      <td>1926.30</td>\n",
       "      <td>331040.0</td>\n",
       "    </tr>\n",
       "    <tr>\n",
       "      <th>2025-05-07</th>\n",
       "      <td>1930.60</td>\n",
       "      <td>1948.65</td>\n",
       "      <td>1922.30</td>\n",
       "      <td>1944.65</td>\n",
       "      <td>123501.0</td>\n",
       "    </tr>\n",
       "    <tr>\n",
       "      <th>2025-05-06</th>\n",
       "      <td>1935.95</td>\n",
       "      <td>1939.45</td>\n",
       "      <td>1924.00</td>\n",
       "      <td>1930.55</td>\n",
       "      <td>172594.0</td>\n",
       "    </tr>\n",
       "    <tr>\n",
       "      <th>2025-05-05</th>\n",
       "      <td>1938.80</td>\n",
       "      <td>1952.00</td>\n",
       "      <td>1933.00</td>\n",
       "      <td>1936.15</td>\n",
       "      <td>268311.0</td>\n",
       "    </tr>\n",
       "    <tr>\n",
       "      <th>...</th>\n",
       "      <td>...</td>\n",
       "      <td>...</td>\n",
       "      <td>...</td>\n",
       "      <td>...</td>\n",
       "      <td>...</td>\n",
       "    </tr>\n",
       "    <tr>\n",
       "      <th>2024-12-18</th>\n",
       "      <td>1832.50</td>\n",
       "      <td>1835.65</td>\n",
       "      <td>1807.45</td>\n",
       "      <td>1811.20</td>\n",
       "      <td>102823.0</td>\n",
       "    </tr>\n",
       "    <tr>\n",
       "      <th>2024-12-17</th>\n",
       "      <td>1856.05</td>\n",
       "      <td>1862.25</td>\n",
       "      <td>1826.35</td>\n",
       "      <td>1832.85</td>\n",
       "      <td>104055.0</td>\n",
       "    </tr>\n",
       "    <tr>\n",
       "      <th>2024-12-16</th>\n",
       "      <td>1863.00</td>\n",
       "      <td>1870.00</td>\n",
       "      <td>1855.10</td>\n",
       "      <td>1864.80</td>\n",
       "      <td>133759.0</td>\n",
       "    </tr>\n",
       "    <tr>\n",
       "      <th>2024-12-13</th>\n",
       "      <td>1855.20</td>\n",
       "      <td>1874.55</td>\n",
       "      <td>1829.00</td>\n",
       "      <td>1872.05</td>\n",
       "      <td>228126.0</td>\n",
       "    </tr>\n",
       "    <tr>\n",
       "      <th>2024-12-12</th>\n",
       "      <td>1849.95</td>\n",
       "      <td>1868.65</td>\n",
       "      <td>1849.35</td>\n",
       "      <td>1858.95</td>\n",
       "      <td>150771.0</td>\n",
       "    </tr>\n",
       "  </tbody>\n",
       "</table>\n",
       "<p>100 rows × 5 columns</p>\n",
       "</div>"
      ],
      "text/plain": [
       "            1. open  2. high   3. low  4. close  5. volume\n",
       "2025-05-09  1905.15  1919.00  1886.45   1889.20   107594.0\n",
       "2025-05-08  1955.00  1955.00  1918.10   1926.30   331040.0\n",
       "2025-05-07  1930.60  1948.65  1922.30   1944.65   123501.0\n",
       "2025-05-06  1935.95  1939.45  1924.00   1930.55   172594.0\n",
       "2025-05-05  1938.80  1952.00  1933.00   1936.15   268311.0\n",
       "...             ...      ...      ...       ...        ...\n",
       "2024-12-18  1832.50  1835.65  1807.45   1811.20   102823.0\n",
       "2024-12-17  1856.05  1862.25  1826.35   1832.85   104055.0\n",
       "2024-12-16  1863.00  1870.00  1855.10   1864.80   133759.0\n",
       "2024-12-13  1855.20  1874.55  1829.00   1872.05   228126.0\n",
       "2024-12-12  1849.95  1868.65  1849.35   1858.95   150771.0\n",
       "\n",
       "[100 rows x 5 columns]"
      ]
     },
     "execution_count": 14,
     "metadata": {},
     "output_type": "execute_result"
    }
   ],
   "source": [
    "df2 = client.stock_data(\"HDFCBANK.BSE\")\n",
    "df2"
   ]
  },
  {
   "cell_type": "code",
   "execution_count": 15,
   "id": "db349faa",
   "metadata": {},
   "outputs": [
    {
     "data": {
      "application/vnd.plotly.v1+json": {
       "config": {
        "plotlyServerURL": "https://plot.ly"
       },
       "data": [
        {
         "close": {
          "bdata": "zczMzMyEnUAzMzMzMxmeQJqZmZmZYp5AMzMzMzMqnkCamZmZmUCeQDMzMzMzEp5AAAAAAAAPnkAAAAAAANGdQJqZmZmZ/Z1AZmZmZmbZnUBmZmZmZvGdQGZmZmZmDJ5AmpmZmZmnnkAzMzMzMx6eQDMzMzMzyp1AmpmZmZlXnUCamZmZmSOdQGZmZmZmOpxAAAAAAACWm0BmZmZmZqSbQJqZmZmZeJtAAAAAAABknEDNzMzMzAacQJqZmZmZFZxAMzMzMzOdm0AAAAAAAJKcQAAAAAAAhZxAzczMzMw3nEDNzMzMzHWcQJqZmZmZJJxAZmZmZmanm0AzMzMzM52bQGZmZmZmP5tAmpmZmZkUm0CamZmZmbeaQDMzMzMzp5pAZmZmZma/mkDNzMzMzFOaQDMzMzMzXJpAZmZmZmZlmkAAAAAAAGeaQAAAAAAAZ5pAmpmZmZm8mkAAAAAAAJWaQGZmZmZmDJtAzczMzMyNmkBmZmZmZk6aQAAAAAAAL5pAMzMzMzNumkCamZmZmVmaQM3MzMzM+5pAAAAAAADqmkAAAAAAANWaQAAAAAAAfJpAAAAAAACHmkAzMzMzM6yaQJqZmZmZj5pAmpmZmZnNmkBmZmZmZhCbQM3MzMzMQptAAAAAAAAmm0AAAAAAAOmaQJqZmZmZQJpAZmZmZmZnmkAAAAAAAI2aQGZmZmZmcJpAZmZmZmY0mkAzMzMzMxqaQM3MzMzMdplAMzMzMzPGmUAzMzMzMwOaQDMzMzMzBJpAAAAAAACnmUAAAAAAAM2ZQM3MzMzMkplAAAAAAADTmUAAAAAAAKuZQAAAAAAAsZlAZmZmZmZ4mUCamZmZmeSZQAAAAAAAD5pAmpmZmZl4mkBmZmZmZsiaQDMzMzMzuZpAMzMzMzNVm0BmZmZmZgWcQM3MzMzM2ZtAzczMzMyxm0DNzMzMzMqbQGZmZmZmF5xAAAAAAAD/m0CamZmZmRacQAAAAAAAJJxAMzMzMzOwm0DNzMzMzAWcQM3MzMzMTJxAZmZmZmajnEAzMzMzMyOdQDMzMzMzQJ1AzczMzMwLnUA=",
          "dtype": "f8"
         },
         "high": {
          "bdata": "AAAAAAD8nUAAAAAAAIyeQJqZmZmZcp5AzczMzMxNnkAAAAAAAICeQGZmZmZmV55AmpmZmZlBnkAAAAAAACSeQM3MzMzMJZ5AAAAAAAA0nkAAAAAAABCeQM3MzMzM555AmpmZmZnKnkAAAAAAAHieQGZmZmZm/Z1AMzMzMzNonUCamZmZmU+dQM3MzMzMa5xAmpmZmZm1m0AAAAAAANibQGZmZmZmzptAzczMzMzInEBmZmZmZi+cQDMzMzMzHZxAAAAAAABInECamZmZmbGcQAAAAAAAwpxAAAAAAACOnECamZmZmc+cQAAAAAAAMJxAzczMzMy3m0AAAAAAALWbQGZmZmZmWZtAAAAAAAAmm0AAAAAAAPCaQAAAAAAA4ppAAAAAAADcmkCamZmZmXmaQJqZmZmZjZpAmpmZmZmTmkAAAAAAAJCaQJqZmZmZuppAzczMzMzKmkAAAAAAADybQDMzMzMzI5tAAAAAAAC4mkAAAAAAAGCaQAAAAAAAUppAMzMzMzN7mkBmZmZmZsyaQJqZmZmZJ5tAZmZmZmYOm0AAAAAAAOCaQGZmZmZmkZpAAAAAAADImkBmZmZmZr6aQDMzMzMzuppAAAAAAADvmkCamZmZmZ2bQM3MzMzMTZtAAAAAAABAm0AAAAAAAPiaQJqZmZmZWppAZmZmZmbCmkAAAAAAAJ+aQDMzMzMzgZpAMzMzMzNFmkAAAAAAAFCaQGZmZmZmpplAmpmZmZkamkAAAAAAAFSaQGZmZmZmH5pAzczMzMzxmUAAAAAAAPOZQJqZmZmZyJlAAAAAAADwmUCamZmZmfqZQAAAAAAA4ZlAzczMzMy5mUAAAAAAACyaQJqZmZmZZppAMzMzMzPAmkDNzMzMzOWaQM3MzMzMdZtAMzMzMzMLnEAAAAAAACycQJqZmZmZCZxAZmZmZmbVm0AAAAAAAFycQAAAAAAALJxAmpmZmZlNnECamZmZmTicQJqZmZmZN5xAZmZmZmYVnEDNzMzMzCCcQJqZmZmZrpxAAAAAAAAZnUAAAAAAADidQDMzMzMzSp1AmpmZmZkynUA=",
          "dtype": "f8"
         },
         "low": {
          "bdata": "zczMzMx5nUBmZmZmZvidQDMzMzMzCZ5AAAAAAAAQnkAAAAAAADSeQGZmZmZmAp5AzczMzMzYnUAAAAAAALCdQM3MzMzM151AmpmZmZmPnUAzMzMzM76dQM3MzMzMAJ5AzczMzMw8nkBmZmZmZt6dQAAAAAAAV51AAAAAAAAUnUDNzMzMzPmcQAAAAAAAuJtAzczMzMxlm0BmZmZmZlqbQDMzMzMzKJtAzczMzMw/nEDNzMzMzMKbQDMzMzMznZtAAAAAAACUm0AAAAAAADucQM3MzMzMGpxAAAAAAAAqnEAAAAAAACWcQM3MzMzMtZtAMzMzMzNWm0CamZmZmVSbQAAAAAAAEJtAAAAAAADOmkCamZmZmaWaQAAAAAAAkJpAZmZmZmZjmkAzMzMzMxmaQAAAAAAATJpAZmZmZmY1mkBmZmZmZiKaQDMzMzMzYZpAzczMzMx5mkCamZmZmXiaQDMzMzMzRZpAMzMzMzNOmkAAAAAAACCaQGZmZmZm9plAMzMzMzM3mkAAAAAAAFSaQDMzMzMzxJpAZmZmZmapmkAzMzMzM0SaQDMzMzMzPppAmpmZmZl2mkAzMzMzM0aaQM3MzMzMYJpAmpmZmZmzmkBmZmZmZvSaQDMzMzMz8JpAzczMzMzamkDNzMzMzECaQDMzMzMzBJpAAAAAAAAxmkAzMzMzM1CaQDMzMzMzJppAZmZmZmYTmkAAAAAAALCZQJqZmZmZaZlAAAAAAAC0mUAAAAAAAM+ZQDMzMzMzZZlAAAAAAACDmUAAAAAAAHCZQAAAAAAAc5lAAAAAAACtmUAAAAAAAJGZQAAAAAAAjJlAAAAAAABhmUCamZmZmdiZQGZmZmZm65lAAAAAAABMmkAAAAAAAJCaQAAAAAAApJpAMzMzMzNJm0BmZmZmZribQAAAAAAAiJtAAAAAAACgm0BmZmZmZq2bQAAAAAAA9ptAAAAAAADXm0BmZmZmZvSbQAAAAAAA0JtAmpmZmZmbm0AAAAAAAMybQM3MzMzMPZxAZmZmZmaJnEBmZmZmZvycQAAAAAAAlJxAZmZmZmblnEA=",
          "dtype": "f8"
         },
         "open": {
          "bdata": "mpmZmZnEnUAAAAAAAIyeQGZmZmZmKp5AzczMzMw/nkAzMzMzM0ueQAAAAAAAKJ5AzczMzMzpnUBmZmZmZhOeQAAAAAAA2J1AMzMzMzMInkDNzMzMzN+dQDMzMzMzxZ5AAAAAAABQnkAzMzMzMwieQDMzMzMzXJ1AAAAAAABonUCamZmZmTidQAAAAAAAuJtAAAAAAACfm0BmZmZmZpCbQAAAAAAAgJtAAAAAAABAnEAzMzMzM8ybQDMzMzMznZtAAAAAAAAgnEAAAAAAAJicQAAAAAAAHpxAAAAAAACAnEAAAAAAACWcQAAAAAAA0JtAMzMzMzNWm0DNzMzMzFibQAAAAAAAGJtAAAAAAADxmkAzMzMzM6eaQJqZmZmZy5pAZmZmZmZjmkAzMzMzM1GaQGZmZmZmYZpAzczMzMxbmkDNzMzMzGOaQAAAAAAApJpAAAAAAACMmkAAAAAAAB2bQDMzMzMzRZpAMzMzMzNOmkAAAAAAACCaQGZmZmZmQJpAmpmZmZlMmkAzMzMzM8yaQJqZmZmZ2ppAAAAAAADMmkAzMzMzM1iaQDMzMzMzkJpAzczMzMyPmkAAAAAAAGyaQAAAAAAAqJpAMzMzMzPNmkAzMzMzM1qbQGZmZmZmHZtAMzMzMzMMm0AAAAAAAGiaQAAAAAAAGJpAMzMzMzOEmkDNzMzMzGOaQGZmZmZmNZpAAAAAAAAsmkAAAAAAALCZQAAAAAAAoJlAzczMzMz/mUDNzMzMzEqaQM3MzMzMs5lAAAAAAADwmUDNzMzMzIOZQM3MzMzMs5lAAAAAAADfmUAAAAAAAOiZQAAAAAAAjJlAAAAAAACgmUAAAAAAABiaQJqZmZmZZppAAAAAAAC8mkBmZmZmZrmaQJqZmZmZL5tAMzMzMzMLnEAAAAAAANKbQAAAAAAAvJtAMzMzMzOom0DNzMzMzAucQAAAAAAA+ZtAAAAAAAAWnEDNzMzMzC+cQAAAAAAA0JtAzczMzMzvm0AzMzMzMwycQAAAAAAAopxAMzMzMzMAnUAAAAAAABydQM3MzMzM/JxAzczMzMznnEA=",
          "dtype": "f8"
         },
         "type": "candlestick",
         "x": [
          "2025-05-09T00:00:00.000000000",
          "2025-05-08T00:00:00.000000000",
          "2025-05-07T00:00:00.000000000",
          "2025-05-06T00:00:00.000000000",
          "2025-05-05T00:00:00.000000000",
          "2025-05-02T00:00:00.000000000",
          "2025-04-30T00:00:00.000000000",
          "2025-04-29T00:00:00.000000000",
          "2025-04-28T00:00:00.000000000",
          "2025-04-25T00:00:00.000000000",
          "2025-04-24T00:00:00.000000000",
          "2025-04-23T00:00:00.000000000",
          "2025-04-22T00:00:00.000000000",
          "2025-04-21T00:00:00.000000000",
          "2025-04-17T00:00:00.000000000",
          "2025-04-16T00:00:00.000000000",
          "2025-04-15T00:00:00.000000000",
          "2025-04-11T00:00:00.000000000",
          "2025-04-09T00:00:00.000000000",
          "2025-04-08T00:00:00.000000000",
          "2025-04-07T00:00:00.000000000",
          "2025-04-04T00:00:00.000000000",
          "2025-04-03T00:00:00.000000000",
          "2025-04-02T00:00:00.000000000",
          "2025-04-01T00:00:00.000000000",
          "2025-03-28T00:00:00.000000000",
          "2025-03-27T00:00:00.000000000",
          "2025-03-26T00:00:00.000000000",
          "2025-03-25T00:00:00.000000000",
          "2025-03-24T00:00:00.000000000",
          "2025-03-21T00:00:00.000000000",
          "2025-03-20T00:00:00.000000000",
          "2025-03-19T00:00:00.000000000",
          "2025-03-18T00:00:00.000000000",
          "2025-03-17T00:00:00.000000000",
          "2025-03-13T00:00:00.000000000",
          "2025-03-12T00:00:00.000000000",
          "2025-03-11T00:00:00.000000000",
          "2025-03-10T00:00:00.000000000",
          "2025-03-07T00:00:00.000000000",
          "2025-03-06T00:00:00.000000000",
          "2025-03-05T00:00:00.000000000",
          "2025-03-04T00:00:00.000000000",
          "2025-03-03T00:00:00.000000000",
          "2025-02-28T00:00:00.000000000",
          "2025-02-27T00:00:00.000000000",
          "2025-02-25T00:00:00.000000000",
          "2025-02-24T00:00:00.000000000",
          "2025-02-21T00:00:00.000000000",
          "2025-02-20T00:00:00.000000000",
          "2025-02-19T00:00:00.000000000",
          "2025-02-18T00:00:00.000000000",
          "2025-02-17T00:00:00.000000000",
          "2025-02-14T00:00:00.000000000",
          "2025-02-13T00:00:00.000000000",
          "2025-02-12T00:00:00.000000000",
          "2025-02-11T00:00:00.000000000",
          "2025-02-10T00:00:00.000000000",
          "2025-02-07T00:00:00.000000000",
          "2025-02-06T00:00:00.000000000",
          "2025-02-05T00:00:00.000000000",
          "2025-02-04T00:00:00.000000000",
          "2025-02-03T00:00:00.000000000",
          "2025-02-01T00:00:00.000000000",
          "2025-01-31T00:00:00.000000000",
          "2025-01-30T00:00:00.000000000",
          "2025-01-29T00:00:00.000000000",
          "2025-01-28T00:00:00.000000000",
          "2025-01-27T00:00:00.000000000",
          "2025-01-24T00:00:00.000000000",
          "2025-01-23T00:00:00.000000000",
          "2025-01-22T00:00:00.000000000",
          "2025-01-21T00:00:00.000000000",
          "2025-01-20T00:00:00.000000000",
          "2025-01-17T00:00:00.000000000",
          "2025-01-16T00:00:00.000000000",
          "2025-01-15T00:00:00.000000000",
          "2025-01-14T00:00:00.000000000",
          "2025-01-13T00:00:00.000000000",
          "2025-01-10T00:00:00.000000000",
          "2025-01-09T00:00:00.000000000",
          "2025-01-08T00:00:00.000000000",
          "2025-01-07T00:00:00.000000000",
          "2025-01-06T00:00:00.000000000",
          "2025-01-03T00:00:00.000000000",
          "2025-01-02T00:00:00.000000000",
          "2025-01-01T00:00:00.000000000",
          "2024-12-31T00:00:00.000000000",
          "2024-12-30T00:00:00.000000000",
          "2024-12-27T00:00:00.000000000",
          "2024-12-26T00:00:00.000000000",
          "2024-12-24T00:00:00.000000000",
          "2024-12-23T00:00:00.000000000",
          "2024-12-20T00:00:00.000000000",
          "2024-12-19T00:00:00.000000000",
          "2024-12-18T00:00:00.000000000",
          "2024-12-17T00:00:00.000000000",
          "2024-12-16T00:00:00.000000000",
          "2024-12-13T00:00:00.000000000",
          "2024-12-12T00:00:00.000000000"
         ]
        }
       ],
       "layout": {
        "height": 800,
        "template": {
         "data": {
          "candlestick": [
           {
            "decreasing": {
             "line": {
              "color": "#000033"
             }
            },
            "increasing": {
             "line": {
              "color": "#000032"
             }
            },
            "type": "candlestick"
           }
          ],
          "contour": [
           {
            "colorscale": [
             [
              0,
              "#000011"
             ],
             [
              0.1111111111111111,
              "#000012"
             ],
             [
              0.2222222222222222,
              "#000013"
             ],
             [
              0.3333333333333333,
              "#000014"
             ],
             [
              0.4444444444444444,
              "#000015"
             ],
             [
              0.5555555555555556,
              "#000016"
             ],
             [
              0.6666666666666666,
              "#000017"
             ],
             [
              0.7777777777777778,
              "#000018"
             ],
             [
              0.8888888888888888,
              "#000019"
             ],
             [
              1,
              "#000020"
             ]
            ],
            "type": "contour"
           }
          ],
          "contourcarpet": [
           {
            "colorscale": [
             [
              0,
              "#000011"
             ],
             [
              0.1111111111111111,
              "#000012"
             ],
             [
              0.2222222222222222,
              "#000013"
             ],
             [
              0.3333333333333333,
              "#000014"
             ],
             [
              0.4444444444444444,
              "#000015"
             ],
             [
              0.5555555555555556,
              "#000016"
             ],
             [
              0.6666666666666666,
              "#000017"
             ],
             [
              0.7777777777777778,
              "#000018"
             ],
             [
              0.8888888888888888,
              "#000019"
             ],
             [
              1,
              "#000020"
             ]
            ],
            "type": "contourcarpet"
           }
          ],
          "heatmap": [
           {
            "colorscale": [
             [
              0,
              "#000011"
             ],
             [
              0.1111111111111111,
              "#000012"
             ],
             [
              0.2222222222222222,
              "#000013"
             ],
             [
              0.3333333333333333,
              "#000014"
             ],
             [
              0.4444444444444444,
              "#000015"
             ],
             [
              0.5555555555555556,
              "#000016"
             ],
             [
              0.6666666666666666,
              "#000017"
             ],
             [
              0.7777777777777778,
              "#000018"
             ],
             [
              0.8888888888888888,
              "#000019"
             ],
             [
              1,
              "#000020"
             ]
            ],
            "type": "heatmap"
           }
          ],
          "histogram2d": [
           {
            "colorscale": [
             [
              0,
              "#000011"
             ],
             [
              0.1111111111111111,
              "#000012"
             ],
             [
              0.2222222222222222,
              "#000013"
             ],
             [
              0.3333333333333333,
              "#000014"
             ],
             [
              0.4444444444444444,
              "#000015"
             ],
             [
              0.5555555555555556,
              "#000016"
             ],
             [
              0.6666666666666666,
              "#000017"
             ],
             [
              0.7777777777777778,
              "#000018"
             ],
             [
              0.8888888888888888,
              "#000019"
             ],
             [
              1,
              "#000020"
             ]
            ],
            "type": "histogram2d"
           }
          ],
          "icicle": [
           {
            "textfont": {
             "color": "white"
            },
            "type": "icicle"
           }
          ],
          "sankey": [
           {
            "textfont": {
             "color": "#000036"
            },
            "type": "sankey"
           }
          ],
          "scatter": [
           {
            "marker": {
             "line": {
              "width": 0
             }
            },
            "type": "scatter"
           }
          ],
          "table": [
           {
            "cells": {
             "fill": {
              "color": "#000038"
             },
             "font": {
              "color": "#000037"
             },
             "line": {
              "color": "#000039"
             }
            },
            "header": {
             "fill": {
              "color": "#000040"
             },
             "font": {
              "color": "#000036"
             },
             "line": {
              "color": "#000039"
             }
            },
            "type": "table"
           }
          ],
          "waterfall": [
           {
            "connector": {
             "line": {
              "color": "#000036",
              "width": 2
             }
            },
            "decreasing": {
             "marker": {
              "color": "#000033"
             }
            },
            "increasing": {
             "marker": {
              "color": "#000032"
             }
            },
            "totals": {
             "marker": {
              "color": "#000034"
             }
            },
            "type": "waterfall"
           }
          ]
         },
         "layout": {
          "coloraxis": {
           "colorscale": [
            [
             0,
             "#000011"
            ],
            [
             0.1111111111111111,
             "#000012"
            ],
            [
             0.2222222222222222,
             "#000013"
            ],
            [
             0.3333333333333333,
             "#000014"
            ],
            [
             0.4444444444444444,
             "#000015"
            ],
            [
             0.5555555555555556,
             "#000016"
            ],
            [
             0.6666666666666666,
             "#000017"
            ],
            [
             0.7777777777777778,
             "#000018"
            ],
            [
             0.8888888888888888,
             "#000019"
            ],
            [
             1,
             "#000020"
            ]
           ]
          },
          "colorscale": {
           "diverging": [
            [
             0,
             "#000021"
            ],
            [
             0.1,
             "#000022"
            ],
            [
             0.2,
             "#000023"
            ],
            [
             0.3,
             "#000024"
            ],
            [
             0.4,
             "#000025"
            ],
            [
             0.5,
             "#000026"
            ],
            [
             0.6,
             "#000027"
            ],
            [
             0.7,
             "#000028"
            ],
            [
             0.8,
             "#000029"
            ],
            [
             0.9,
             "#000030"
            ],
            [
             1,
             "#000031"
            ]
           ],
           "sequential": [
            [
             0,
             "#000011"
            ],
            [
             0.1111111111111111,
             "#000012"
            ],
            [
             0.2222222222222222,
             "#000013"
            ],
            [
             0.3333333333333333,
             "#000014"
            ],
            [
             0.4444444444444444,
             "#000015"
            ],
            [
             0.5555555555555556,
             "#000016"
            ],
            [
             0.6666666666666666,
             "#000017"
            ],
            [
             0.7777777777777778,
             "#000018"
            ],
            [
             0.8888888888888888,
             "#000019"
            ],
            [
             1,
             "#000020"
            ]
           ],
           "sequentialminus": [
            [
             0,
             "#000011"
            ],
            [
             0.1111111111111111,
             "#000012"
            ],
            [
             0.2222222222222222,
             "#000013"
            ],
            [
             0.3333333333333333,
             "#000014"
            ],
            [
             0.4444444444444444,
             "#000015"
            ],
            [
             0.5555555555555556,
             "#000016"
            ],
            [
             0.6666666666666666,
             "#000017"
            ],
            [
             0.7777777777777778,
             "#000018"
            ],
            [
             0.8888888888888888,
             "#000019"
            ],
            [
             1,
             "#000020"
            ]
           ]
          },
          "colorway": [
           "#000001",
           "#000002",
           "#000003",
           "#000004",
           "#000005",
           "#000006",
           "#000007",
           "#000008",
           "#000009",
           "#000010"
          ]
         }
        },
        "width": 1000
       }
      }
     },
     "metadata": {},
     "output_type": "display_data"
    }
   ],
   "source": [
    "client.plot_chart(df2)"
   ]
  },
  {
   "cell_type": "code",
   "execution_count": 17,
   "id": "7cdde42b",
   "metadata": {},
   "outputs": [
    {
     "data": {
      "text/html": [
       "<div>\n",
       "<style scoped>\n",
       "    .dataframe tbody tr th:only-of-type {\n",
       "        vertical-align: middle;\n",
       "    }\n",
       "\n",
       "    .dataframe tbody tr th {\n",
       "        vertical-align: top;\n",
       "    }\n",
       "\n",
       "    .dataframe thead th {\n",
       "        text-align: right;\n",
       "    }\n",
       "</style>\n",
       "<table border=\"1\" class=\"dataframe\">\n",
       "  <thead>\n",
       "    <tr style=\"text-align: right;\">\n",
       "      <th></th>\n",
       "      <th>1. open</th>\n",
       "      <th>2. high</th>\n",
       "      <th>3. low</th>\n",
       "      <th>4. close</th>\n",
       "      <th>5. volume</th>\n",
       "    </tr>\n",
       "  </thead>\n",
       "  <tbody>\n",
       "    <tr>\n",
       "      <th>2025-05-09</th>\n",
       "      <td>290.210</td>\n",
       "      <td>307.0400</td>\n",
       "      <td>290.0000</td>\n",
       "      <td>298.26</td>\n",
       "      <td>132387835.0</td>\n",
       "    </tr>\n",
       "    <tr>\n",
       "      <th>2025-05-08</th>\n",
       "      <td>279.630</td>\n",
       "      <td>289.8000</td>\n",
       "      <td>279.4100</td>\n",
       "      <td>284.82</td>\n",
       "      <td>97539448.0</td>\n",
       "    </tr>\n",
       "    <tr>\n",
       "      <th>2025-05-07</th>\n",
       "      <td>276.880</td>\n",
       "      <td>277.9200</td>\n",
       "      <td>271.0000</td>\n",
       "      <td>276.22</td>\n",
       "      <td>71882408.0</td>\n",
       "    </tr>\n",
       "    <tr>\n",
       "      <th>2025-05-06</th>\n",
       "      <td>273.105</td>\n",
       "      <td>277.7300</td>\n",
       "      <td>271.3500</td>\n",
       "      <td>275.35</td>\n",
       "      <td>76715792.0</td>\n",
       "    </tr>\n",
       "    <tr>\n",
       "      <th>2025-05-05</th>\n",
       "      <td>284.570</td>\n",
       "      <td>284.8490</td>\n",
       "      <td>274.4000</td>\n",
       "      <td>280.26</td>\n",
       "      <td>94618882.0</td>\n",
       "    </tr>\n",
       "    <tr>\n",
       "      <th>...</th>\n",
       "      <td>...</td>\n",
       "      <td>...</td>\n",
       "      <td>...</td>\n",
       "      <td>...</td>\n",
       "      <td>...</td>\n",
       "    </tr>\n",
       "    <tr>\n",
       "      <th>2024-12-19</th>\n",
       "      <td>451.880</td>\n",
       "      <td>456.3600</td>\n",
       "      <td>420.0200</td>\n",
       "      <td>436.17</td>\n",
       "      <td>118566146.0</td>\n",
       "    </tr>\n",
       "    <tr>\n",
       "      <th>2024-12-18</th>\n",
       "      <td>466.495</td>\n",
       "      <td>488.5399</td>\n",
       "      <td>427.0100</td>\n",
       "      <td>440.13</td>\n",
       "      <td>149340788.0</td>\n",
       "    </tr>\n",
       "    <tr>\n",
       "      <th>2024-12-17</th>\n",
       "      <td>475.900</td>\n",
       "      <td>483.9900</td>\n",
       "      <td>457.5101</td>\n",
       "      <td>479.86</td>\n",
       "      <td>131222978.0</td>\n",
       "    </tr>\n",
       "    <tr>\n",
       "      <th>2024-12-16</th>\n",
       "      <td>441.090</td>\n",
       "      <td>463.1900</td>\n",
       "      <td>436.1500</td>\n",
       "      <td>463.02</td>\n",
       "      <td>114083811.0</td>\n",
       "    </tr>\n",
       "    <tr>\n",
       "      <th>2024-12-13</th>\n",
       "      <td>420.000</td>\n",
       "      <td>436.3000</td>\n",
       "      <td>415.7100</td>\n",
       "      <td>436.23</td>\n",
       "      <td>89000158.0</td>\n",
       "    </tr>\n",
       "  </tbody>\n",
       "</table>\n",
       "<p>100 rows × 5 columns</p>\n",
       "</div>"
      ],
      "text/plain": [
       "            1. open   2. high    3. low  4. close    5. volume\n",
       "2025-05-09  290.210  307.0400  290.0000    298.26  132387835.0\n",
       "2025-05-08  279.630  289.8000  279.4100    284.82   97539448.0\n",
       "2025-05-07  276.880  277.9200  271.0000    276.22   71882408.0\n",
       "2025-05-06  273.105  277.7300  271.3500    275.35   76715792.0\n",
       "2025-05-05  284.570  284.8490  274.4000    280.26   94618882.0\n",
       "...             ...       ...       ...       ...          ...\n",
       "2024-12-19  451.880  456.3600  420.0200    436.17  118566146.0\n",
       "2024-12-18  466.495  488.5399  427.0100    440.13  149340788.0\n",
       "2024-12-17  475.900  483.9900  457.5101    479.86  131222978.0\n",
       "2024-12-16  441.090  463.1900  436.1500    463.02  114083811.0\n",
       "2024-12-13  420.000  436.3000  415.7100    436.23   89000158.0\n",
       "\n",
       "[100 rows x 5 columns]"
      ]
     },
     "execution_count": 17,
     "metadata": {},
     "output_type": "execute_result"
    }
   ],
   "source": [
    "df3 = client.stock_data(\"TSLA\")\n",
    "df3"
   ]
  },
  {
   "cell_type": "code",
   "execution_count": null,
   "id": "5efcbe82",
   "metadata": {},
   "outputs": [
    {
     "data": {
      "application/vnd.plotly.v1+json": {
       "config": {
        "plotlyServerURL": "https://plot.ly"
       },
       "data": [
        {
         "close": {
          "bdata": "XI/C9SikckCF61G4Hs1xQOxRuB6FQ3FAmpmZmZk1cUBcj8L1KIRxQI/C9Shc83FAuB6F61GIcUDD9Shcj6JxQBSuR+F6QHJArkfhehTecUAzMzMzM89xQFyPwvUoOHBASOF6FK5Xb0DXo3A9Cr9tQAAAAAAAcGxApHA9CtcrbkCamZmZmTFuQOxRuB6Fw29AMzMzMzOLb0BSuB6F64lvQM3MzMzMjG9AMzMzMzMDcUDsUbgehbtrQOF6FK5HKW1A9ihcj8LtbUAUrkfherRwQFyPwvUorHFAj8L1KFzHcEDD9ShcjzJwQM3MzMzMeHBArkfhehQScUApXI/C9QBxQArXo3A9AnJACtejcD1mcUAfhetRuBZvQLgehetRiG1A7FG4HoV7bUBSuB6F6ylsQLgehetRwG1Aj8L1KFw/b0D2KFyPwhVuQHsUrkfhAm9Aw/UoXI/SbEDNzMzMzMRrQB+F61G4anBAMzMzMzN3cECamZmZmXFxQHE9CtejAHFAZmZmZmbKcUBI4XoUrk9yQDMzMzMzn3FAzczMzMwsckDNzMzMzOxyQBSuR+F6qHRAzczMzMwcdUBmZmZmZiZ2QClcj8L1iHZA9ihcj8IhdkA9CtejcD12QNejcD0KP3ZAXI/C9SgIdUAAAAAAAIh0QEjhehSu63VAUrgeheuZdkCF61G4HmV3QB+F61G4ondAj8L1KFyDeEB7FK5H4fp3QJqZmZmZSXlAFK5H4XoEeUCamZmZmVF4QD0K16Nw4XhAZmZmZmbSeEDhehSuR2l5QK5H4XoUxnlA9ihcj8LxeUCF61G4HoF6QAAAAAAAqHpAhetRuB7deUDsUbgehcN6QPYoXI/CxXhAKVyPwvU0eUCkcD0K16t4QNejcD0Kr3hA9ihcj8KleEDNzMzMzLB5QNejcD0Kp3lAFK5H4Xq0d0A9CtejcD15QMP1KFyPFnpAw/UoXI/6ekCuR+F6FGJ8QBSuR+F65HxAmpmZmZnpekApXI/C9VB6QB+F61G4QntArkfhehSCe0D2KFyPwv19QLgehetR8HxASOF6FK5De0A=",
          "dtype": "f8"
         },
         "high": {
          "bdata": "cT0K16Mwc0DNzMzMzBxyQB+F61G4XnFASOF6FK5bcUDdJAaBlc1xQBSuR+F6bHJAPSzUmuYtckAzMzMzM8dxQIXrUbgeVXJA9ihcj8JtckCamZmZme1xQHE9CtejOHBAh6dXyjI3cEDhehSuR1luQB+F61G4Bm1AexSuR+GKbkDXo3A9Cn9vQAAAAAAALHBAzczMzMxccECkcD0K1xtwQKRwPQrXZ3BA16NwPQorcUCuR+F6FE5vQAAAAAAAgG9AAAAAAABQcEDNzMzMzERxQKRwPQrXz3FAMzMzMzNXcUApXI/C9UhwQJqZmZmZQXFAmpmZmZk9ckBmZmZmZs5xQDMzMzMzA3JACtejcD1qcUBxPQrXozBvQAAAAAAAwG1AhetRuB4tbkAzMzMzM8NsQM3MzMzMrG5Aw/UoXI9yb0DhehSuRwlvQHsUrkfhem9AVTAqqROibUCkcD0K16tvQFR0JJf/o3BAZmZmZmYKcUDNzMzMzHhxQJqZmZmZxXFA16NwPQr/ckCuR+F6FF5yQEjhehSuk3JAAAAAAABQc0AK16NwPY50QDarPldbZnVASOF6FK4vdkDNzMzMzKR2QD0K16Nw9XZAmpmZmZlxdkAAAAAAAKB2QNejcD0Ka3ZAZmZmZmamdUBSuB6F69V1QDMzMzMzq3ZAL26jAbzId0BmZmZmZnZ3QArXo3A9RnhAAAAAAACgeEAfhetRuFJ4QKRwPQrXP3pAAAAAAADIeUCRfvs6cOl4QD0K16NwCXlA16NwPQpreUCuR+F6FC56QEjhehSuS3pAAAAAAADAekAzMzMzMxN7QKRwPQrXe3tAAAAAAACAekDNzMzMzNx6QArXo3A9anpAcT0K16M8eUAUrkfhevR4QFR0JJf/J3lA4XoUrkfleUB7FK5H4aZ6QAK8BRIUvnlAm1Wfq62LeEB7FK5H4b56QAAAAAAAsHpAAAAAAAAgfEA17zhFRxV9QBSuR+F67HxAXI/C9Sgoe0DhehSuR/F7QPYoXI/ChXxAxLEubqOIfkCkcD0K1z9+QNejcD0K83xAzczMzMxEe0A=",
          "dtype": "f8"
         },
         "low": {
          "bdata": "AAAAAAAgckDD9Shcj3ZxQAAAAAAA8HBAmpmZmZn1cEBmZmZmZiZxQClcj8L1fHFAKVyPwvV8cUAUrkfheuxwQI2XbhKDd3FAH4XrUbgGcUCuR+F6FDpwQGZmZmZmJm9A9ihcj8KNbkCMSuoENLtsQOF6FK5H2WtAayv2l921bUAUrkfhejxtQOF6FK5H8W5A9ihcj8K9bkD99nXgnCtuQMP1KFyP6m1AXI/C9Sj8a0CamZmZmTlrQAAAAAAAyGpAAAAAAACAbUBcj8L1KFhwQHE9CtejaG9AAAAAAAA0cEBEaW/whWtuQIXrUbgeSXBATKYKRiX9cEBcj8L1KKhwQBSuR+F69HBA4XoUrkcFcECamZmZmVFtQPKwUGuawWxA30+Nl26mbEApXI/C9chrQJqZmZmZGW1Aj8L1KFwXbkAzMzMzMxNtQDMzMzMzI25AcT0K16Mga0AAAAAAAIBrQI/C9ShcV29AuB6F61FAcECPwvUoXLtwQOqVsgxxXXBAzczMzMxUcUCamZmZmRlxQK5H4XoUjnFAcT0K16MAckAVjErqBJRyQDMzMzMzS3RAH4XrUbjmdEAAAAAAAMB1QB+F61G4GnZAuB6F61HgdUAAAAAAALh1QJqZmZmZbXVAUrgeheuRdECamZmZmVF0QFyPwvUo6HVAPQrXo3CFdkB7FK5H4bJ2QBSuR+F6eHdAZmZmZmbWd0D2KFyPwmV3QD0K16NwFXlAw/UoXI8GeEBI4XoUrgd4QAAAAAAAKHhAAAAAAABQeEAUrkfhelx5QDMzMzMzj3lAPQrXo3DpeUApXI/C9WR5QAAAAAAAPHpArkfhehSSeUB/arx0k1p5QHE9CtejqHhAhetRuB7Bd0BxPQrXo5R3QGZmZmZmNnhAAAAAAABgeEAzMzMzMxt5QDMzMzMzt3dAcT0K16NQd0BxPQrXoyh5QAAAAAAA/HlAAAAAAACoekC4HoXrUTB8QArXo3A9MntA2IFzRpT2eUAK16NwPRp6QLgehetRQHpAXI/C9SiwekAJG55eKZh8QGZmZmZmQntAj8L1KFz7eUA=",
          "dtype": "f8"
         },
         "open": {
          "bdata": "j8L1KFwjckCuR+F6FHpxQK5H4XoUTnFASOF6FK4RcUCF61G4HslxQGZmZmZmznFAXI/C9SiAcUBmZmZmZn5xQAAAAAAA2HFASOF6FK4PckDXo3A9CltwQAAAAAAAUG9A7FG4HoXbb0AfhetRuN5sQLgehetRyGxA16NwPQpvbkDsUbgehfNuQIXrUbgePW9A9ihcj8IlcEB7FK5H4XpvQAAAAAAAQHBArkfhehQWbEAAAAAAAKBuQClcj8L1+GtAXI/C9Sjsb0BxPQrXo5RwQDMzMzMz029AzczMzMx8cEBSuB6F6ylvQDMzMzMzOXFASOF6FK4HcUDD9Shcj6pxQJqZmZmZuXFAMzMzMzMhcEDsUbgehV9tQNejcD0KK21A7FG4HoXzbEApXI/C9YRsQPYoXI/CoW5AUrgehevpbkAAAAAAAARvQNejcD0K525A9ihcj8IpbEDhehSuR5FvQIXrUbgeNXBAKVyPwvUAcUAfhetRuA5xQHsUrkfh7nBAPQrXo3DFckAAAAAAAHhxQMP1KFyPMnJAPQrXo3D7ckBmZmZmZnB0QArXo3A9InVA16NwPQoXdkBcj8L1KJh2QAAAAAAAIHZAXI/C9SgwdkBSuB6F64l2QAAAAAAAkHVA16NwPQqfdEDNzMzMzJx1QI/C9ShcQ3ZA16NwPQojd0AUrkfhelB3QFyPwvUoOHhArkfhehTqd0B7FK5H4Sp4QBSuR+F6GHlAFK5H4XqseUCPwvUoXLN4QMP1KFyPznhAzczMzMyseEAzMzMzM+d5QClcj8L1AHpAKVyPwvUMekAK16NwPQp7QAAAAAAAWHpApHA9Ctd3ekBmZmZmZp55QD0K16Nw5XlAj8L1KFzzd0BmZmZmZnZ4QDMzMzMzj3hA4XoUrkddeUAzMzMzM3N6QEjhehSu13dAmpmZmZlheEBxPQrXo3x6QGZmZmZmNnpAuB6F61EYfEDD9ShcjxJ9QGZmZmZmPntAAAAAAADwekCuR+F6FJh6QK5H4XoUPnxAUrgehesnfUBmZmZmZr59QD0K16NwkXtAAAAAAABAekA=",
          "dtype": "f8"
         },
         "type": "candlestick",
         "x": [
          "2025-05-09T00:00:00.000000000",
          "2025-05-08T00:00:00.000000000",
          "2025-05-07T00:00:00.000000000",
          "2025-05-06T00:00:00.000000000",
          "2025-05-05T00:00:00.000000000",
          "2025-05-02T00:00:00.000000000",
          "2025-05-01T00:00:00.000000000",
          "2025-04-30T00:00:00.000000000",
          "2025-04-29T00:00:00.000000000",
          "2025-04-28T00:00:00.000000000",
          "2025-04-25T00:00:00.000000000",
          "2025-04-24T00:00:00.000000000",
          "2025-04-23T00:00:00.000000000",
          "2025-04-22T00:00:00.000000000",
          "2025-04-21T00:00:00.000000000",
          "2025-04-17T00:00:00.000000000",
          "2025-04-16T00:00:00.000000000",
          "2025-04-15T00:00:00.000000000",
          "2025-04-14T00:00:00.000000000",
          "2025-04-11T00:00:00.000000000",
          "2025-04-10T00:00:00.000000000",
          "2025-04-09T00:00:00.000000000",
          "2025-04-08T00:00:00.000000000",
          "2025-04-07T00:00:00.000000000",
          "2025-04-04T00:00:00.000000000",
          "2025-04-03T00:00:00.000000000",
          "2025-04-02T00:00:00.000000000",
          "2025-04-01T00:00:00.000000000",
          "2025-03-31T00:00:00.000000000",
          "2025-03-28T00:00:00.000000000",
          "2025-03-27T00:00:00.000000000",
          "2025-03-26T00:00:00.000000000",
          "2025-03-25T00:00:00.000000000",
          "2025-03-24T00:00:00.000000000",
          "2025-03-21T00:00:00.000000000",
          "2025-03-20T00:00:00.000000000",
          "2025-03-19T00:00:00.000000000",
          "2025-03-18T00:00:00.000000000",
          "2025-03-17T00:00:00.000000000",
          "2025-03-14T00:00:00.000000000",
          "2025-03-13T00:00:00.000000000",
          "2025-03-12T00:00:00.000000000",
          "2025-03-11T00:00:00.000000000",
          "2025-03-10T00:00:00.000000000",
          "2025-03-07T00:00:00.000000000",
          "2025-03-06T00:00:00.000000000",
          "2025-03-05T00:00:00.000000000",
          "2025-03-04T00:00:00.000000000",
          "2025-03-03T00:00:00.000000000",
          "2025-02-28T00:00:00.000000000",
          "2025-02-27T00:00:00.000000000",
          "2025-02-26T00:00:00.000000000",
          "2025-02-25T00:00:00.000000000",
          "2025-02-24T00:00:00.000000000",
          "2025-02-21T00:00:00.000000000",
          "2025-02-20T00:00:00.000000000",
          "2025-02-19T00:00:00.000000000",
          "2025-02-18T00:00:00.000000000",
          "2025-02-14T00:00:00.000000000",
          "2025-02-13T00:00:00.000000000",
          "2025-02-12T00:00:00.000000000",
          "2025-02-11T00:00:00.000000000",
          "2025-02-10T00:00:00.000000000",
          "2025-02-07T00:00:00.000000000",
          "2025-02-06T00:00:00.000000000",
          "2025-02-05T00:00:00.000000000",
          "2025-02-04T00:00:00.000000000",
          "2025-02-03T00:00:00.000000000",
          "2025-01-31T00:00:00.000000000",
          "2025-01-30T00:00:00.000000000",
          "2025-01-29T00:00:00.000000000",
          "2025-01-28T00:00:00.000000000",
          "2025-01-27T00:00:00.000000000",
          "2025-01-24T00:00:00.000000000",
          "2025-01-23T00:00:00.000000000",
          "2025-01-22T00:00:00.000000000",
          "2025-01-21T00:00:00.000000000",
          "2025-01-17T00:00:00.000000000",
          "2025-01-16T00:00:00.000000000",
          "2025-01-15T00:00:00.000000000",
          "2025-01-14T00:00:00.000000000",
          "2025-01-13T00:00:00.000000000",
          "2025-01-10T00:00:00.000000000",
          "2025-01-08T00:00:00.000000000",
          "2025-01-07T00:00:00.000000000",
          "2025-01-06T00:00:00.000000000",
          "2025-01-03T00:00:00.000000000",
          "2025-01-02T00:00:00.000000000",
          "2024-12-31T00:00:00.000000000",
          "2024-12-30T00:00:00.000000000",
          "2024-12-27T00:00:00.000000000",
          "2024-12-26T00:00:00.000000000",
          "2024-12-24T00:00:00.000000000",
          "2024-12-23T00:00:00.000000000",
          "2024-12-20T00:00:00.000000000",
          "2024-12-19T00:00:00.000000000",
          "2024-12-18T00:00:00.000000000",
          "2024-12-17T00:00:00.000000000",
          "2024-12-16T00:00:00.000000000",
          "2024-12-13T00:00:00.000000000"
         ]
        }
       ],
       "layout": {
        "height": 800,
        "template": {
         "data": {
          "candlestick": [
           {
            "decreasing": {
             "line": {
              "color": "#000033"
             }
            },
            "increasing": {
             "line": {
              "color": "#000032"
             }
            },
            "type": "candlestick"
           }
          ],
          "contour": [
           {
            "colorscale": [
             [
              0,
              "#000011"
             ],
             [
              0.1111111111111111,
              "#000012"
             ],
             [
              0.2222222222222222,
              "#000013"
             ],
             [
              0.3333333333333333,
              "#000014"
             ],
             [
              0.4444444444444444,
              "#000015"
             ],
             [
              0.5555555555555556,
              "#000016"
             ],
             [
              0.6666666666666666,
              "#000017"
             ],
             [
              0.7777777777777778,
              "#000018"
             ],
             [
              0.8888888888888888,
              "#000019"
             ],
             [
              1,
              "#000020"
             ]
            ],
            "type": "contour"
           }
          ],
          "contourcarpet": [
           {
            "colorscale": [
             [
              0,
              "#000011"
             ],
             [
              0.1111111111111111,
              "#000012"
             ],
             [
              0.2222222222222222,
              "#000013"
             ],
             [
              0.3333333333333333,
              "#000014"
             ],
             [
              0.4444444444444444,
              "#000015"
             ],
             [
              0.5555555555555556,
              "#000016"
             ],
             [
              0.6666666666666666,
              "#000017"
             ],
             [
              0.7777777777777778,
              "#000018"
             ],
             [
              0.8888888888888888,
              "#000019"
             ],
             [
              1,
              "#000020"
             ]
            ],
            "type": "contourcarpet"
           }
          ],
          "heatmap": [
           {
            "colorscale": [
             [
              0,
              "#000011"
             ],
             [
              0.1111111111111111,
              "#000012"
             ],
             [
              0.2222222222222222,
              "#000013"
             ],
             [
              0.3333333333333333,
              "#000014"
             ],
             [
              0.4444444444444444,
              "#000015"
             ],
             [
              0.5555555555555556,
              "#000016"
             ],
             [
              0.6666666666666666,
              "#000017"
             ],
             [
              0.7777777777777778,
              "#000018"
             ],
             [
              0.8888888888888888,
              "#000019"
             ],
             [
              1,
              "#000020"
             ]
            ],
            "type": "heatmap"
           }
          ],
          "histogram2d": [
           {
            "colorscale": [
             [
              0,
              "#000011"
             ],
             [
              0.1111111111111111,
              "#000012"
             ],
             [
              0.2222222222222222,
              "#000013"
             ],
             [
              0.3333333333333333,
              "#000014"
             ],
             [
              0.4444444444444444,
              "#000015"
             ],
             [
              0.5555555555555556,
              "#000016"
             ],
             [
              0.6666666666666666,
              "#000017"
             ],
             [
              0.7777777777777778,
              "#000018"
             ],
             [
              0.8888888888888888,
              "#000019"
             ],
             [
              1,
              "#000020"
             ]
            ],
            "type": "histogram2d"
           }
          ],
          "icicle": [
           {
            "textfont": {
             "color": "white"
            },
            "type": "icicle"
           }
          ],
          "sankey": [
           {
            "textfont": {
             "color": "#000036"
            },
            "type": "sankey"
           }
          ],
          "scatter": [
           {
            "marker": {
             "line": {
              "width": 0
             }
            },
            "type": "scatter"
           }
          ],
          "table": [
           {
            "cells": {
             "fill": {
              "color": "#000038"
             },
             "font": {
              "color": "#000037"
             },
             "line": {
              "color": "#000039"
             }
            },
            "header": {
             "fill": {
              "color": "#000040"
             },
             "font": {
              "color": "#000036"
             },
             "line": {
              "color": "#000039"
             }
            },
            "type": "table"
           }
          ],
          "waterfall": [
           {
            "connector": {
             "line": {
              "color": "#000036",
              "width": 2
             }
            },
            "decreasing": {
             "marker": {
              "color": "#000033"
             }
            },
            "increasing": {
             "marker": {
              "color": "#000032"
             }
            },
            "totals": {
             "marker": {
              "color": "#000034"
             }
            },
            "type": "waterfall"
           }
          ]
         },
         "layout": {
          "coloraxis": {
           "colorscale": [
            [
             0,
             "#000011"
            ],
            [
             0.1111111111111111,
             "#000012"
            ],
            [
             0.2222222222222222,
             "#000013"
            ],
            [
             0.3333333333333333,
             "#000014"
            ],
            [
             0.4444444444444444,
             "#000015"
            ],
            [
             0.5555555555555556,
             "#000016"
            ],
            [
             0.6666666666666666,
             "#000017"
            ],
            [
             0.7777777777777778,
             "#000018"
            ],
            [
             0.8888888888888888,
             "#000019"
            ],
            [
             1,
             "#000020"
            ]
           ]
          },
          "colorscale": {
           "diverging": [
            [
             0,
             "#000021"
            ],
            [
             0.1,
             "#000022"
            ],
            [
             0.2,
             "#000023"
            ],
            [
             0.3,
             "#000024"
            ],
            [
             0.4,
             "#000025"
            ],
            [
             0.5,
             "#000026"
            ],
            [
             0.6,
             "#000027"
            ],
            [
             0.7,
             "#000028"
            ],
            [
             0.8,
             "#000029"
            ],
            [
             0.9,
             "#000030"
            ],
            [
             1,
             "#000031"
            ]
           ],
           "sequential": [
            [
             0,
             "#000011"
            ],
            [
             0.1111111111111111,
             "#000012"
            ],
            [
             0.2222222222222222,
             "#000013"
            ],
            [
             0.3333333333333333,
             "#000014"
            ],
            [
             0.4444444444444444,
             "#000015"
            ],
            [
             0.5555555555555556,
             "#000016"
            ],
            [
             0.6666666666666666,
             "#000017"
            ],
            [
             0.7777777777777778,
             "#000018"
            ],
            [
             0.8888888888888888,
             "#000019"
            ],
            [
             1,
             "#000020"
            ]
           ],
           "sequentialminus": [
            [
             0,
             "#000011"
            ],
            [
             0.1111111111111111,
             "#000012"
            ],
            [
             0.2222222222222222,
             "#000013"
            ],
            [
             0.3333333333333333,
             "#000014"
            ],
            [
             0.4444444444444444,
             "#000015"
            ],
            [
             0.5555555555555556,
             "#000016"
            ],
            [
             0.6666666666666666,
             "#000017"
            ],
            [
             0.7777777777777778,
             "#000018"
            ],
            [
             0.8888888888888888,
             "#000019"
            ],
            [
             1,
             "#000020"
            ]
           ]
          },
          "colorway": [
           "#000001",
           "#000002",
           "#000003",
           "#000004",
           "#000005",
           "#000006",
           "#000007",
           "#000008",
           "#000009",
           "#000010"
          ]
         }
        },
        "width": 1000
       }
      }
     },
     "metadata": {},
     "output_type": "display_data"
    }
   ],
   "source": [
    "client.plot_chart(df3)"
   ]
  },
  {
   "cell_type": "code",
   "execution_count": null,
   "id": "ada9eb08",
   "metadata": {},
   "outputs": [],
   "source": []
  }
 ],
 "metadata": {
  "kernelspec": {
   "display_name": ".venv",
   "language": "python",
   "name": "python3"
  },
  "language_info": {
   "codemirror_mode": {
    "name": "ipython",
    "version": 3
   },
   "file_extension": ".py",
   "mimetype": "text/x-python",
   "name": "python",
   "nbconvert_exporter": "python",
   "pygments_lexer": "ipython3",
   "version": "3.12.4"
  }
 },
 "nbformat": 4,
 "nbformat_minor": 5
}
